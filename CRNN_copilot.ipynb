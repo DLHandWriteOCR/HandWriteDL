{
 "cells": [
  {
   "cell_type": "markdown",
   "id": "fa23241e",
   "metadata": {},
   "source": [
    "# json 파일 병합"
   ]
  },
  {
   "cell_type": "code",
   "execution_count": 1,
   "id": "d52aff79",
   "metadata": {
    "ExecuteTime": {
     "end_time": "2024-08-22T11:56:50.926748Z",
     "start_time": "2024-08-22T11:56:50.899871Z"
    }
   },
   "outputs": [
    {
     "name": "stdout",
     "output_type": "stream",
     "text": [
      "Merged JSON data written to 'merged_labels.json'\n"
     ]
    }
   ],
   "source": [
    "import json\n",
    "import os\n",
    "import glob\n",
    "\n",
    "# JSON 파일 병합 함수\n",
    "def merge_json_files(input_dir, output_file):\n",
    "    merged_data = []\n",
    "    json_pattern = os.path.join(input_dir, '*.json')\n",
    "    file_list = glob.glob(json_pattern)\n",
    "    \n",
    "    for file in file_list:\n",
    "        with open(file, 'r', encoding='utf-8') as f:\n",
    "            data = json.load(f)\n",
    "            merged_data.append(data)\n",
    "    \n",
    "    with open(output_file, 'w', encoding='utf-8') as f:\n",
    "        json.dump(merged_data, f, indent=4)\n",
    "\n",
    "# 입력 디렉토리와 출력 파일 경로 설정\n",
    "input_directory = 'path/to/your/json/files'\n",
    "output_file = 'merged_labels.json'\n",
    "\n",
    "# JSON 파일 병합 실행\n",
    "merge_json_files(input_directory, output_file)\n",
    "print(f\"Merged JSON data written to '{output_file}'\")\n"
   ]
  },
  {
   "cell_type": "markdown",
   "id": "4b1c156c",
   "metadata": {},
   "source": [
    "# copilot\n",
    "OCR json 파일 요소 중 bounding box 값이 단어 별로 구분되어 있는 경우, python에서 crnn 모델을 이용해 text 구분을 하는 코드를 짜줄 수 있어?"
   ]
  },
  {
   "cell_type": "code",
   "execution_count": null,
   "id": "6ef7ab78",
   "metadata": {},
   "outputs": [],
   "source": [
    "# 필요한 라이브러리 설치\n",
    "# !pip install tensorflow opencv-python numpy matplotlib\n",
    "\n",
    "# 라이브러리 임포트\n",
    "import tensorflow as tf\n",
    "import numpy as np\n",
    "import cv2\n",
    "import json\n",
    "import matplotlib.pyplot as plt\n",
    "from tensorflow.keras import backend as K\n"
   ]
  },
  {
   "cell_type": "code",
   "execution_count": null,
   "id": "7271d15e",
   "metadata": {},
   "outputs": [],
   "source": [
    "# JSON 파일 로드 함수\n",
    "def load_json(json_path):\n",
    "    with open(json_path, 'r', encoding='utf-8') as f:\n",
    "        data = json.load(f)\n",
    "    return data\n",
    "\n",
    "# 이미지 전처리 함수\n",
    "def preprocess_image(image_path, bounding_box):\n",
    "    image = cv2.imread(image_path, cv2.IMREAD_GRAYSCALE)\n",
    "    x, y, w, h = bounding_box\n",
    "    cropped_image = image[y:y+h, x:x+w]\n",
    "    resized_image = cv2.resize(cropped_image, (128, 32))  # CRNN 입력 크기에 맞게 조정\n",
    "    normalized_image = resized_image / 255.0\n",
    "    return normalized_image\n",
    "\n",
    "# JSON 파일 경로\n",
    "json_path = 'path/to/your/label.json'\n",
    "data = load_json(json_path)\n",
    "\n",
    "# 이미지 경로\n",
    "image_path = data['file_name']\n",
    "\n",
    "# 각 단어의 바운딩 박스와 텍스트 정보\n",
    "words_info = data['words']\n",
    "\n",
    "# 전처리된 이미지 리스트\n",
    "processed_images = []\n",
    "for word_info in words_info:\n",
    "    bounding_box = word_info['bounding_box']\n",
    "    processed_image = preprocess_image(image_path, bounding_box)\n",
    "    processed_images.append(processed_image)\n"
   ]
  },
  {
   "cell_type": "code",
   "execution_count": null,
   "id": "0ae5b639",
   "metadata": {},
   "outputs": [],
   "source": [
    "# CTC 디코딩 함수\n",
    "def ctc_decode(predictions, charset):\n",
    "    decoded = K.ctc_decode(predictions, input_length=np.ones(predictions.shape[0]) * predictions.shape[1])[0][0]\n",
    "    decoded_text = K.get_value(decoded)\n",
    "    return ''.join([charset[i] for i in decoded_text if i != -1])\n",
    "\n",
    "# CRNN 모델 정의 (간단한 예제)\n",
    "def build_crnn_model(input_shape, num_classes):\n",
    "    input_layer = tf.keras.layers.Input(shape=input_shape)\n",
    "    x = tf.keras.layers.Conv2D(32, (3, 3), activation='relu', padding='same')(input_layer)\n",
    "    x = tf.keras.layers.MaxPooling2D((2, 2))(x)\n",
    "    x = tf.keras.layers.Conv2D(64, (3, 3), activation='relu', padding='same')(x)\n",
    "    x = tf.keras.layers.MaxPooling2D((2, 2))(x)\n",
    "    x = tf.keras.layers.Reshape((-1, x.shape[-1]))(x)\n",
    "    x = tf.keras.layers.Bidirectional(tf.keras.layers.LSTM(128, return_sequences=True))(x)\n",
    "    x = tf.keras.layers.Dense(num_classes, activation='softmax')(x)\n",
    "    model = tf.keras.models.Model(inputs=input_layer, outputs=x)\n",
    "    return model\n",
    "\n",
    "# 모델 입력 크기와 클래스 수 정의\n",
    "input_shape = (32, 128, 1)\n",
    "num_classes = 37  # 예: 알파벳 26자 + 숫자 10자 + 공백 1자\n",
    "\n",
    "# 모델 빌드\n",
    "model = build_crnn_model(input_shape, num_classes)\n",
    "\n",
    "# 모델 요약 출력\n",
    "model.summary()\n",
    "\n",
    "# 예측 수행 및 CTC 디코딩\n",
    "charset = 'ABCDEFGHIJKLMNOPQRSTUVWXYZ0123456789 '  # 예시 문자셋\n",
    "for processed_image in processed_images:\n",
    "    processed_image = np.expand_dims(processed_image, axis=-1)  # 채널 차원 추가\n",
    "    processed_image = np.expand_dims(processed_image, axis=0)  # 배치 차원 추가\n",
    "    predictions = model.predict(processed_image)\n",
    "    \n",
    "    # CTC 디코딩을 통해 실제 텍스트 판독\n",
    "    predicted_text = ctc_decode(predictions, charset)\n",
    "    print(f\"Predicted text: {predicted_text}\")\n"
   ]
  },
  {
   "cell_type": "markdown",
   "id": "81a3ccdd",
   "metadata": {},
   "source": [
    "## 한글 문자셋 만드는 부분"
   ]
  },
  {
   "cell_type": "code",
   "execution_count": null,
   "id": "8c37814c",
   "metadata": {},
   "outputs": [],
   "source": [
    "# 한글 음절 셋 생성 코드\n",
    "def generate_hangul_syllables():\n",
    "    hangul_syllables = []\n",
    "    for cho in range(0x1100, 0x1113):  # 초성 (19자)\n",
    "        for jung in range(0x1161, 0x1176):  # 중성 (21자)\n",
    "            for jong in range(0x11A8, 0x11C3):  # 종성 (27자)\n",
    "                syllable = chr(0xAC00 + (cho - 0x1100) * 21 * 28 + (jung - 0x1161) * 28 + (jong - 0x11A7))\n",
    "                hangul_syllables.append(syllable)\n",
    "    return hangul_syllables\n",
    "\n",
    "# 한글 음절 셋 생성\n",
    "hangul_syllables = generate_hangul_syllables()\n",
    "\n",
    "# 생성된 한글 음절 셋 출력 (일부 예시)\n",
    "print(hangul_syllables[:100])  # 처음 100개의 음절 출력\n"
   ]
  },
  {
   "cell_type": "code",
   "execution_count": null,
   "id": "ed29c16e",
   "metadata": {},
   "outputs": [],
   "source": []
  }
 ],
 "metadata": {
  "kernelspec": {
   "display_name": "ds_study",
   "language": "python",
   "name": "ds_study"
  },
  "language_info": {
   "codemirror_mode": {
    "name": "ipython",
    "version": 3
   },
   "file_extension": ".py",
   "mimetype": "text/x-python",
   "name": "python",
   "nbconvert_exporter": "python",
   "pygments_lexer": "ipython3",
   "version": "3.8.19"
  },
  "toc": {
   "base_numbering": 1,
   "nav_menu": {},
   "number_sections": true,
   "sideBar": true,
   "skip_h1_title": false,
   "title_cell": "Table of Contents",
   "title_sidebar": "Contents",
   "toc_cell": false,
   "toc_position": {},
   "toc_section_display": true,
   "toc_window_display": false
  }
 },
 "nbformat": 4,
 "nbformat_minor": 5
}
