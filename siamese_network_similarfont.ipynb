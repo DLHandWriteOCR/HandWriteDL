{
  "nbformat": 4,
  "nbformat_minor": 0,
  "metadata": {
    "colab": {
      "provenance": []
    },
    "kernelspec": {
      "name": "python3",
      "display_name": "Python 3"
    },
    "language_info": {
      "name": "python"
    }
  },
  "cells": [
    {
      "cell_type": "code",
      "source": [
        "/content/drive/MyDrive/Colab Notebooks/result"
      ],
      "metadata": {
        "id": "4YnmCfFhERGG"
      },
      "execution_count": null,
      "outputs": []
    },
    {
      "cell_type": "code",
      "source": [
        "!pip install paddlepaddle\n",
        "!pip install paddleocr"
      ],
      "metadata": {
        "colab": {
          "base_uri": "https://localhost:8080/"
        },
        "collapsed": true,
        "id": "_296Gu_kca_M",
        "outputId": "6a160327-ac05-4b5f-dff0-57fd4005b639"
      },
      "execution_count": 3,
      "outputs": [
        {
          "output_type": "stream",
          "name": "stdout",
          "text": [
            "Collecting paddlepaddle\n",
            "  Downloading paddlepaddle-2.6.1-cp310-cp310-manylinux1_x86_64.whl.metadata (8.6 kB)\n",
            "Collecting httpx (from paddlepaddle)\n",
            "  Downloading httpx-0.27.2-py3-none-any.whl.metadata (7.1 kB)\n",
            "Requirement already satisfied: numpy>=1.13 in /usr/local/lib/python3.10/dist-packages (from paddlepaddle) (1.26.4)\n",
            "Requirement already satisfied: Pillow in /usr/local/lib/python3.10/dist-packages (from paddlepaddle) (9.4.0)\n",
            "Requirement already satisfied: decorator in /usr/local/lib/python3.10/dist-packages (from paddlepaddle) (4.4.2)\n",
            "Collecting astor (from paddlepaddle)\n",
            "  Downloading astor-0.8.1-py2.py3-none-any.whl.metadata (4.2 kB)\n",
            "Requirement already satisfied: opt-einsum==3.3.0 in /usr/local/lib/python3.10/dist-packages (from paddlepaddle) (3.3.0)\n",
            "Requirement already satisfied: protobuf>=3.20.2 in /usr/local/lib/python3.10/dist-packages (from paddlepaddle) (3.20.3)\n",
            "Requirement already satisfied: anyio in /usr/local/lib/python3.10/dist-packages (from httpx->paddlepaddle) (3.7.1)\n",
            "Requirement already satisfied: certifi in /usr/local/lib/python3.10/dist-packages (from httpx->paddlepaddle) (2024.7.4)\n",
            "Collecting httpcore==1.* (from httpx->paddlepaddle)\n",
            "  Downloading httpcore-1.0.5-py3-none-any.whl.metadata (20 kB)\n",
            "Requirement already satisfied: idna in /usr/local/lib/python3.10/dist-packages (from httpx->paddlepaddle) (3.8)\n",
            "Requirement already satisfied: sniffio in /usr/local/lib/python3.10/dist-packages (from httpx->paddlepaddle) (1.3.1)\n",
            "Collecting h11<0.15,>=0.13 (from httpcore==1.*->httpx->paddlepaddle)\n",
            "  Downloading h11-0.14.0-py3-none-any.whl.metadata (8.2 kB)\n",
            "Requirement already satisfied: exceptiongroup in /usr/local/lib/python3.10/dist-packages (from anyio->httpx->paddlepaddle) (1.2.2)\n",
            "Downloading paddlepaddle-2.6.1-cp310-cp310-manylinux1_x86_64.whl (125.9 MB)\n",
            "\u001b[2K   \u001b[90m━━━━━━━━━━━━━━━━━━━━━━━━━━━━━━━━━━━━━━━━\u001b[0m \u001b[32m125.9/125.9 MB\u001b[0m \u001b[31m5.3 MB/s\u001b[0m eta \u001b[36m0:00:00\u001b[0m\n",
            "\u001b[?25hDownloading astor-0.8.1-py2.py3-none-any.whl (27 kB)\n",
            "Downloading httpx-0.27.2-py3-none-any.whl (76 kB)\n",
            "\u001b[2K   \u001b[90m━━━━━━━━━━━━━━━━━━━━━━━━━━━━━━━━━━━━━━━━\u001b[0m \u001b[32m76.4/76.4 kB\u001b[0m \u001b[31m6.1 MB/s\u001b[0m eta \u001b[36m0:00:00\u001b[0m\n",
            "\u001b[?25hDownloading httpcore-1.0.5-py3-none-any.whl (77 kB)\n",
            "\u001b[2K   \u001b[90m━━━━━━━━━━━━━━━━━━━━━━━━━━━━━━━━━━━━━━━━\u001b[0m \u001b[32m77.9/77.9 kB\u001b[0m \u001b[31m6.8 MB/s\u001b[0m eta \u001b[36m0:00:00\u001b[0m\n",
            "\u001b[?25hDownloading h11-0.14.0-py3-none-any.whl (58 kB)\n",
            "\u001b[2K   \u001b[90m━━━━━━━━━━━━━━━━━━━━━━━━━━━━━━━━━━━━━━━━\u001b[0m \u001b[32m58.3/58.3 kB\u001b[0m \u001b[31m4.6 MB/s\u001b[0m eta \u001b[36m0:00:00\u001b[0m\n",
            "\u001b[?25hInstalling collected packages: h11, astor, httpcore, httpx, paddlepaddle\n",
            "Successfully installed astor-0.8.1 h11-0.14.0 httpcore-1.0.5 httpx-0.27.2 paddlepaddle-2.6.1\n",
            "Collecting paddleocr\n",
            "  Downloading paddleocr-2.8.1-py3-none-any.whl.metadata (19 kB)\n",
            "Requirement already satisfied: shapely in /usr/local/lib/python3.10/dist-packages (from paddleocr) (2.0.6)\n",
            "Requirement already satisfied: scikit-image in /usr/local/lib/python3.10/dist-packages (from paddleocr) (0.23.2)\n",
            "Requirement already satisfied: imgaug in /usr/local/lib/python3.10/dist-packages (from paddleocr) (0.4.0)\n",
            "Collecting pyclipper (from paddleocr)\n",
            "  Downloading pyclipper-1.3.0.post5-cp310-cp310-manylinux_2_12_x86_64.manylinux2010_x86_64.whl.metadata (9.0 kB)\n",
            "Collecting lmdb (from paddleocr)\n",
            "  Downloading lmdb-1.5.1-cp310-cp310-manylinux_2_17_x86_64.manylinux2014_x86_64.whl.metadata (1.1 kB)\n",
            "Requirement already satisfied: tqdm in /usr/local/lib/python3.10/dist-packages (from paddleocr) (4.66.5)\n",
            "Requirement already satisfied: numpy<2.0 in /usr/local/lib/python3.10/dist-packages (from paddleocr) (1.26.4)\n",
            "Collecting rapidfuzz (from paddleocr)\n",
            "  Downloading rapidfuzz-3.9.7-cp310-cp310-manylinux_2_17_x86_64.manylinux2014_x86_64.whl.metadata (12 kB)\n",
            "Requirement already satisfied: opencv-python in /usr/local/lib/python3.10/dist-packages (from paddleocr) (4.10.0.84)\n",
            "Requirement already satisfied: opencv-contrib-python in /usr/local/lib/python3.10/dist-packages (from paddleocr) (4.10.0.84)\n",
            "Requirement already satisfied: cython in /usr/local/lib/python3.10/dist-packages (from paddleocr) (3.0.11)\n",
            "Requirement already satisfied: Pillow in /usr/local/lib/python3.10/dist-packages (from paddleocr) (9.4.0)\n",
            "Requirement already satisfied: pyyaml in /usr/local/lib/python3.10/dist-packages (from paddleocr) (6.0.2)\n",
            "Collecting python-docx (from paddleocr)\n",
            "  Downloading python_docx-1.1.2-py3-none-any.whl.metadata (2.0 kB)\n",
            "Requirement already satisfied: beautifulsoup4 in /usr/local/lib/python3.10/dist-packages (from paddleocr) (4.12.3)\n",
            "Requirement already satisfied: fonttools>=4.24.0 in /usr/local/lib/python3.10/dist-packages (from paddleocr) (4.53.1)\n",
            "Collecting fire>=0.3.0 (from paddleocr)\n",
            "  Downloading fire-0.6.0.tar.gz (88 kB)\n",
            "\u001b[2K     \u001b[90m━━━━━━━━━━━━━━━━━━━━━━━━━━━━━━━━━━━━━━━━\u001b[0m \u001b[32m88.4/88.4 kB\u001b[0m \u001b[31m1.4 MB/s\u001b[0m eta \u001b[36m0:00:00\u001b[0m\n",
            "\u001b[?25h  Preparing metadata (setup.py) ... \u001b[?25l\u001b[?25hdone\n",
            "Requirement already satisfied: requests in /usr/local/lib/python3.10/dist-packages (from paddleocr) (2.32.3)\n",
            "Requirement already satisfied: six in /usr/local/lib/python3.10/dist-packages (from fire>=0.3.0->paddleocr) (1.16.0)\n",
            "Requirement already satisfied: termcolor in /usr/local/lib/python3.10/dist-packages (from fire>=0.3.0->paddleocr) (2.4.0)\n",
            "Requirement already satisfied: soupsieve>1.2 in /usr/local/lib/python3.10/dist-packages (from beautifulsoup4->paddleocr) (2.6)\n",
            "Requirement already satisfied: scipy in /usr/local/lib/python3.10/dist-packages (from imgaug->paddleocr) (1.13.1)\n",
            "Requirement already satisfied: matplotlib in /usr/local/lib/python3.10/dist-packages (from imgaug->paddleocr) (3.7.1)\n",
            "Requirement already satisfied: imageio in /usr/local/lib/python3.10/dist-packages (from imgaug->paddleocr) (2.34.2)\n",
            "Requirement already satisfied: networkx>=2.8 in /usr/local/lib/python3.10/dist-packages (from scikit-image->paddleocr) (3.3)\n",
            "Requirement already satisfied: tifffile>=2022.8.12 in /usr/local/lib/python3.10/dist-packages (from scikit-image->paddleocr) (2024.8.24)\n",
            "Requirement already satisfied: packaging>=21 in /usr/local/lib/python3.10/dist-packages (from scikit-image->paddleocr) (24.1)\n",
            "Requirement already satisfied: lazy-loader>=0.4 in /usr/local/lib/python3.10/dist-packages (from scikit-image->paddleocr) (0.4)\n",
            "Requirement already satisfied: lxml>=3.1.0 in /usr/local/lib/python3.10/dist-packages (from python-docx->paddleocr) (4.9.4)\n",
            "Requirement already satisfied: typing-extensions>=4.9.0 in /usr/local/lib/python3.10/dist-packages (from python-docx->paddleocr) (4.12.2)\n",
            "Requirement already satisfied: charset-normalizer<4,>=2 in /usr/local/lib/python3.10/dist-packages (from requests->paddleocr) (3.3.2)\n",
            "Requirement already satisfied: idna<4,>=2.5 in /usr/local/lib/python3.10/dist-packages (from requests->paddleocr) (3.8)\n",
            "Requirement already satisfied: urllib3<3,>=1.21.1 in /usr/local/lib/python3.10/dist-packages (from requests->paddleocr) (2.0.7)\n",
            "Requirement already satisfied: certifi>=2017.4.17 in /usr/local/lib/python3.10/dist-packages (from requests->paddleocr) (2024.7.4)\n",
            "Requirement already satisfied: contourpy>=1.0.1 in /usr/local/lib/python3.10/dist-packages (from matplotlib->imgaug->paddleocr) (1.2.1)\n",
            "Requirement already satisfied: cycler>=0.10 in /usr/local/lib/python3.10/dist-packages (from matplotlib->imgaug->paddleocr) (0.12.1)\n",
            "Requirement already satisfied: kiwisolver>=1.0.1 in /usr/local/lib/python3.10/dist-packages (from matplotlib->imgaug->paddleocr) (1.4.5)\n",
            "Requirement already satisfied: pyparsing>=2.3.1 in /usr/local/lib/python3.10/dist-packages (from matplotlib->imgaug->paddleocr) (3.1.4)\n",
            "Requirement already satisfied: python-dateutil>=2.7 in /usr/local/lib/python3.10/dist-packages (from matplotlib->imgaug->paddleocr) (2.8.2)\n",
            "Downloading paddleocr-2.8.1-py3-none-any.whl (407 kB)\n",
            "\u001b[2K   \u001b[90m━━━━━━━━━━━━━━━━━━━━━━━━━━━━━━━━━━━━━━━━\u001b[0m \u001b[32m407.5/407.5 kB\u001b[0m \u001b[31m4.6 MB/s\u001b[0m eta \u001b[36m0:00:00\u001b[0m\n",
            "\u001b[?25hDownloading lmdb-1.5.1-cp310-cp310-manylinux_2_17_x86_64.manylinux2014_x86_64.whl (294 kB)\n",
            "\u001b[2K   \u001b[90m━━━━━━━━━━━━━━━━━━━━━━━━━━━━━━━━━━━━━━━━\u001b[0m \u001b[32m294.9/294.9 kB\u001b[0m \u001b[31m15.5 MB/s\u001b[0m eta \u001b[36m0:00:00\u001b[0m\n",
            "\u001b[?25hDownloading pyclipper-1.3.0.post5-cp310-cp310-manylinux_2_12_x86_64.manylinux2010_x86_64.whl (908 kB)\n",
            "\u001b[2K   \u001b[90m━━━━━━━━━━━━━━━━━━━━━━━━━━━━━━━━━━━━━━━━\u001b[0m \u001b[32m908.3/908.3 kB\u001b[0m \u001b[31m15.4 MB/s\u001b[0m eta \u001b[36m0:00:00\u001b[0m\n",
            "\u001b[?25hDownloading python_docx-1.1.2-py3-none-any.whl (244 kB)\n",
            "\u001b[2K   \u001b[90m━━━━━━━━━━━━━━━━━━━━━━━━━━━━━━━━━━━━━━━━\u001b[0m \u001b[32m244.3/244.3 kB\u001b[0m \u001b[31m18.4 MB/s\u001b[0m eta \u001b[36m0:00:00\u001b[0m\n",
            "\u001b[?25hDownloading rapidfuzz-3.9.7-cp310-cp310-manylinux_2_17_x86_64.manylinux2014_x86_64.whl (3.4 MB)\n",
            "\u001b[2K   \u001b[90m━━━━━━━━━━━━━━━━━━━━━━━━━━━━━━━━━━━━━━━━\u001b[0m \u001b[32m3.4/3.4 MB\u001b[0m \u001b[31m45.2 MB/s\u001b[0m eta \u001b[36m0:00:00\u001b[0m\n",
            "\u001b[?25hBuilding wheels for collected packages: fire\n",
            "  Building wheel for fire (setup.py) ... \u001b[?25l\u001b[?25hdone\n",
            "  Created wheel for fire: filename=fire-0.6.0-py2.py3-none-any.whl size=117030 sha256=4cd3ec24b4110bbb7387cbe7a6c2228ebbc2eb9b10a88646b77d247e9958841a\n",
            "  Stored in directory: /root/.cache/pip/wheels/d6/6d/5d/5b73fa0f46d01a793713f8859201361e9e581ced8c75e5c6a3\n",
            "Successfully built fire\n",
            "Installing collected packages: pyclipper, lmdb, rapidfuzz, python-docx, fire, paddleocr\n",
            "Successfully installed fire-0.6.0 lmdb-1.5.1 paddleocr-2.8.1 pyclipper-1.3.0.post5 python-docx-1.1.2 rapidfuzz-3.9.7\n"
          ]
        }
      ]
    },
    {
      "cell_type": "markdown",
      "source": [
        "# 학습 모델"
      ],
      "metadata": {
        "id": "6_xaFuI_GX8K"
      }
    },
    {
      "cell_type": "code",
      "source": [
        "import os\n",
        "import numpy as np\n",
        "import cv2\n",
        "from tensorflow.keras.utils import Sequence\n",
        "from tensorflow.keras.layers import Input, Conv2D, MaxPooling2D, Flatten, Dense, Lambda\n",
        "from tensorflow.keras.models import Model\n",
        "import tensorflow.keras.backend as K\n",
        "from sklearn.model_selection import train_test_split\n",
        "import tensorflow as tf\n",
        "import unicodedata\n",
        "from tensorflow.keras.models import load_model\n"
      ],
      "metadata": {
        "id": "G-uCKreEF8ZU"
      },
      "execution_count": 4,
      "outputs": []
    },
    {
      "cell_type": "code",
      "execution_count": 5,
      "metadata": {
        "colab": {
          "base_uri": "https://localhost:8080/"
        },
        "id": "K0CrntiuCDPQ",
        "outputId": "740c5319-fd60-4364-bcd0-7914b3dbe267"
      },
      "outputs": [
        {
          "output_type": "stream",
          "name": "stdout",
          "text": [
            "Epoch 1/10\n",
            "\u001b[1m19/19\u001b[0m \u001b[32m━━━━━━━━━━━━━━━━━━━━\u001b[0m\u001b[37m\u001b[0m \u001b[1m0s\u001b[0m 9s/step - loss: 0.8779"
          ]
        },
        {
          "output_type": "stream",
          "name": "stderr",
          "text": [
            "/usr/lib/python3.10/contextlib.py:153: UserWarning: Your input ran out of data; interrupting training. Make sure that your dataset or generator can generate at least `steps_per_epoch * epochs` batches. You may need to use the `.repeat()` function when building your dataset.\n",
            "  self.gen.throw(typ, value, traceback)\n"
          ]
        },
        {
          "output_type": "stream",
          "name": "stdout",
          "text": [
            "\b\b\b\b\b\b\b\b\b\b\b\b\b\b\b\b\b\b\b\b\b\b\b\b\b\b\b\b\b\b\b\b\b\b\b\b\b\b\b\b\b\b\b\b\b\b\b\b\b\b\b\b\r\u001b[1m19/19\u001b[0m \u001b[32m━━━━━━━━━━━━━━━━━━━━\u001b[0m\u001b[37m\u001b[0m \u001b[1m183s\u001b[0m 9s/step - loss: 0.8791 - val_loss: 0.9522\n",
            "Epoch 2/10\n",
            "\u001b[1m19/19\u001b[0m \u001b[32m━━━━━━━━━━━━━━━━━━━━\u001b[0m\u001b[37m\u001b[0m \u001b[1m8s\u001b[0m 395ms/step - loss: 0.0000e+00 - val_loss: 0.9522\n",
            "Epoch 3/10\n",
            "\u001b[1m19/19\u001b[0m \u001b[32m━━━━━━━━━━━━━━━━━━━━\u001b[0m\u001b[37m\u001b[0m \u001b[1m179s\u001b[0m 9s/step - loss: 0.9042 - val_loss: 0.9522\n",
            "Epoch 4/10\n",
            "\u001b[1m19/19\u001b[0m \u001b[32m━━━━━━━━━━━━━━━━━━━━\u001b[0m\u001b[37m\u001b[0m \u001b[1m9s\u001b[0m 451ms/step - loss: 0.0000e+00 - val_loss: 0.9522\n",
            "Epoch 5/10\n",
            "\u001b[1m19/19\u001b[0m \u001b[32m━━━━━━━━━━━━━━━━━━━━\u001b[0m\u001b[37m\u001b[0m \u001b[1m152s\u001b[0m 8s/step - loss: 0.9042 - val_loss: 0.9522\n",
            "Epoch 6/10\n",
            "\u001b[1m19/19\u001b[0m \u001b[32m━━━━━━━━━━━━━━━━━━━━\u001b[0m\u001b[37m\u001b[0m \u001b[1m10s\u001b[0m 516ms/step - loss: 0.0000e+00 - val_loss: 0.9522\n",
            "Epoch 7/10\n",
            "\u001b[1m19/19\u001b[0m \u001b[32m━━━━━━━━━━━━━━━━━━━━\u001b[0m\u001b[37m\u001b[0m \u001b[1m149s\u001b[0m 8s/step - loss: 0.9042 - val_loss: 0.9522\n",
            "Epoch 8/10\n",
            "\u001b[1m19/19\u001b[0m \u001b[32m━━━━━━━━━━━━━━━━━━━━\u001b[0m\u001b[37m\u001b[0m \u001b[1m10s\u001b[0m 545ms/step - loss: 0.0000e+00 - val_loss: 0.9522\n",
            "Epoch 9/10\n",
            "\u001b[1m19/19\u001b[0m \u001b[32m━━━━━━━━━━━━━━━━━━━━\u001b[0m\u001b[37m\u001b[0m \u001b[1m150s\u001b[0m 8s/step - loss: 0.9042 - val_loss: 0.9522\n",
            "Epoch 10/10\n",
            "\u001b[1m19/19\u001b[0m \u001b[32m━━━━━━━━━━━━━━━━━━━━\u001b[0m\u001b[37m\u001b[0m \u001b[1m10s\u001b[0m 544ms/step - loss: 0.0000e+00 - val_loss: 0.9522\n",
            "\u001b[1m5/5\u001b[0m \u001b[32m━━━━━━━━━━━━━━━━━━━━\u001b[0m\u001b[37m\u001b[0m \u001b[1m9s\u001b[0m 2s/step - loss: 0.9519\n"
          ]
        },
        {
          "output_type": "stream",
          "name": "stderr",
          "text": [
            "WARNING:absl:You are saving your model as an HDF5 file via `model.save()` or `keras.saving.save_model(model)`. This file format is considered legacy. We recommend using instead the native Keras format, e.g. `model.save('my_model.keras')` or `keras.saving.save_model(model, 'my_model.keras')`. \n"
          ]
        },
        {
          "output_type": "stream",
          "name": "stdout",
          "text": [
            "Test loss: 0.9521535038948059\n"
          ]
        }
      ],
      "source": [
        "# 데이터 전처리 함수\n",
        "def extract_info_from_filename(filename):\n",
        "    base_name = os.path.basename(filename)\n",
        "    name_part = base_name.split('.png')[0]\n",
        "    parts = name_part.split('_')\n",
        "    if len(parts) < 3:\n",
        "        return None, None, None\n",
        "    text = parts[2]\n",
        "    font = '_'.join(parts[3:])\n",
        "    return text, font\n",
        "\n",
        "def load_images_and_labels(image_dir):\n",
        "    \"\"\"이미지와 라벨 로드\"\"\"\n",
        "    images = []\n",
        "    labels = []\n",
        "\n",
        "    for file in os.listdir(image_dir):\n",
        "        if file.endswith('.png'):\n",
        "            img_path = os.path.join(image_dir, file)\n",
        "            text, font = extract_info_from_filename(file)\n",
        "            if text and font:\n",
        "                img = cv2.imread(img_path)\n",
        "                img = cv2.resize(img, (224, 224))  # 이미지 크기 조정\n",
        "                img = img / 255.0  # 정규화\n",
        "                images.append(img)\n",
        "                labels.append((text, font))\n",
        "\n",
        "    return np.array(images), labels\n",
        "\n",
        "class PairGenerator(tf.keras.utils.Sequence):\n",
        "    def __init__(self, images, labels, batch_size):\n",
        "        self.images = images\n",
        "        self.labels = labels\n",
        "        self.batch_size = batch_size\n",
        "        self.indexes = np.arange(len(images))\n",
        "\n",
        "    def __len__(self):\n",
        "        return int(np.ceil(len(self.images) / self.batch_size))\n",
        "\n",
        "    def __getitem__(self, index):\n",
        "        batch_indexes = self.indexes[index * self.batch_size:(index + 1) * self.batch_size]\n",
        "        batch_images = self.images[batch_indexes]\n",
        "        batch_labels = [self.labels[i] for i in batch_indexes]\n",
        "\n",
        "        pairs, pair_labels = self.create_pairs(batch_images, batch_labels)\n",
        "\n",
        "        # Convert to TensorFlow tensors\n",
        "        pair_0 = tf.convert_to_tensor(pairs[:, 0], dtype=tf.float32)\n",
        "        pair_1 = tf.convert_to_tensor(pairs[:, 1], dtype=tf.float32)\n",
        "        pair_labels = tf.convert_to_tensor(pair_labels, dtype=tf.float32)\n",
        "\n",
        "        return [pair_0, pair_1], pair_labels\n",
        "\n",
        "    def create_pairs(self, images, labels):\n",
        "        pairs = []\n",
        "        pair_labels = []\n",
        "\n",
        "        # 같은 클래스 쌍 생성\n",
        "        label_to_images = {}\n",
        "        for img, (text, font) in zip(images, labels):\n",
        "            if text not in label_to_images:\n",
        "                label_to_images[text] = []\n",
        "            label_to_images[text].append(img)\n",
        "\n",
        "        for img_list in label_to_images.values():\n",
        "            num_images = len(img_list)\n",
        "            for i in range(num_images):\n",
        "                for j in range(i + 1, num_images):\n",
        "                    pairs.append([img_list[i], img_list[j]])\n",
        "                    pair_labels.append(1)  # 같은 클래스\n",
        "\n",
        "        # 다른 클래스 쌍 생성\n",
        "        all_texts = list(label_to_images.keys())\n",
        "        num_texts = len(all_texts)\n",
        "        for i in range(num_texts):\n",
        "            for j in range(i + 1, num_texts):\n",
        "                img_list1 = label_to_images[all_texts[i]]\n",
        "                img_list2 = label_to_images[all_texts[j]]\n",
        "                for img1 in img_list1:\n",
        "                    for img2 in img_list2:\n",
        "                        pairs.append([img1, img2])\n",
        "                        pair_labels.append(0)  # 다른 클래스\n",
        "\n",
        "        # Convert to NumPy arrays\n",
        "        return np.array(pairs), np.array(pair_labels)\n",
        "\n",
        "\n",
        "# Siamese 네트워크 모델 정의\n",
        "def build_siamese_model(input_shape):\n",
        "    input = Input(shape=input_shape)\n",
        "    x = Conv2D(32, (10, 10), activation='relu')(input)  # 필터 수 감소\n",
        "    x = MaxPooling2D()(x)\n",
        "    x = Flatten()(x)\n",
        "    x = Dense(64, activation='relu')(x)  # Dense 레이어 유닛 수 감소\n",
        "    x = Dense(1, activation='sigmoid')(x)  # Sigmoid 활성화 함수 사용\n",
        "\n",
        "    return Model(input, x)\n",
        "\n",
        "\n",
        "def euclidean_distance(vectors):\n",
        "    x, y = vectors\n",
        "    sum_square = K.sum(K.square(x - y), axis=1, keepdims=True)\n",
        "    return K.sqrt(K.maximum(sum_square, K.epsilon()))\n",
        "\n",
        "def contrastive_loss(margin=1):\n",
        "    def loss(y_true, y_pred):\n",
        "        return K.mean(y_true * K.square(y_pred) + (1 - y_true) * K.square(K.maximum(margin - y_pred, 0)))\n",
        "    return loss\n",
        "\n",
        "\n",
        "# 데이터 로드 및 전처리\n",
        "image_dir = '/content/drive/MyDrive/Colab Notebooks/result'\n",
        "images, labels = load_images_and_labels(image_dir)\n",
        "\n",
        "# 데이터 분할\n",
        "X_train, X_test, y_train, y_test = train_test_split(images, labels, test_size=0.2, random_state=42)\n",
        "\n",
        "# 데이터 쌍 생성\n",
        "train_gen = PairGenerator(X_train, y_train, batch_size=8)  # 배치 크기 줄이기\n",
        "test_gen = PairGenerator(X_test, y_test, batch_size=8)  # 배치 크기 줄이기\n",
        "\n",
        "# 모델 정의\n",
        "input_shape = (224, 224, 3)\n",
        "base_network = build_siamese_model(input_shape)\n",
        "\n",
        "input_a = Input(shape=input_shape)\n",
        "input_b = Input(shape=input_shape)\n",
        "\n",
        "processed_a = base_network(input_a)\n",
        "processed_b = base_network(input_b)\n",
        "\n",
        "distance = Lambda(euclidean_distance)([processed_a, processed_b])\n",
        "\n",
        "model = Model([input_a, input_b], distance)\n",
        "model.compile(optimizer='adam', loss=contrastive_loss(margin=1))\n",
        "\n",
        "# --------------------\n",
        "# `pair_generator` 함수 정의\n",
        "import tensorflow as tf\n",
        "\n",
        "# 학습 데이터를 위한 생성기 정의\n",
        "def pair_generator():\n",
        "    for pair_batch, label_batch in train_gen:\n",
        "        yield (pair_batch[0], pair_batch[1]), label_batch\n",
        "\n",
        "# 유효성 검사 데이터를 위한 생성기 정의\n",
        "def validation_generator():\n",
        "    for pair_batch, label_batch in test_gen:\n",
        "        yield (pair_batch[0], pair_batch[1]), label_batch\n",
        "\n",
        "# 학습 데이터셋을 위한 output_signature 정의\n",
        "train_output_signature = (\n",
        "    (\n",
        "        tf.TensorSpec(shape=(None, 224, 224, 3), dtype=tf.float32),\n",
        "        tf.TensorSpec(shape=(None, 224, 224, 3), dtype=tf.float32)\n",
        "    ),\n",
        "    tf.TensorSpec(shape=(None,), dtype=tf.float32)\n",
        ")\n",
        "\n",
        "# 학습 데이터셋 생성\n",
        "train_dataset = tf.data.Dataset.from_generator(\n",
        "    pair_generator,\n",
        "    output_signature=train_output_signature\n",
        ")\n",
        "\n",
        "# 유효성 검사 데이터셋을 위한 output_signature 정의\n",
        "validation_output_signature = (\n",
        "    (\n",
        "        tf.TensorSpec(shape=(None, 224, 224, 3), dtype=tf.float32),\n",
        "        tf.TensorSpec(shape=(None, 224, 224, 3), dtype=tf.float32)\n",
        "    ),\n",
        "    tf.TensorSpec(shape=(None,), dtype=tf.float32)\n",
        ")\n",
        "\n",
        "# 유효성 검사 데이터셋 생성\n",
        "validation_dataset = tf.data.Dataset.from_generator(\n",
        "    validation_generator,\n",
        "    output_signature=validation_output_signature\n",
        ")\n",
        "\n",
        "# steps_per_epoch 값을 데이터셋 크기에 따라 명확히 설정\n",
        "steps_per_epoch = len(train_gen)\n",
        "\n",
        "# 모델 학습\n",
        "model.fit(train_dataset, epochs=10, validation_data=validation_dataset, steps_per_epoch=steps_per_epoch, callbacks=[tf.keras.callbacks.ProgbarLogger()])\n",
        "\n",
        "# # 모델 훈련\n",
        "# model.fit(train_gen, epochs=10, validation_data=test_gen)\n",
        "\n",
        "# 테스트 데이터를 위한 생성기 정의\n",
        "def test_generator():\n",
        "    for pair_batch, label_batch in test_gen:\n",
        "        yield (pair_batch[0], pair_batch[1]), label_batch\n",
        "\n",
        "# 테스트 데이터셋을 위한 output_signature 정의\n",
        "test_output_signature = (\n",
        "    (\n",
        "        tf.TensorSpec(shape=(None, 224, 224, 3), dtype=tf.float32),\n",
        "        tf.TensorSpec(shape=(None, 224, 224, 3), dtype=tf.float32)\n",
        "    ),\n",
        "    tf.TensorSpec(shape=(None,), dtype=tf.float32)\n",
        ")\n",
        "\n",
        "# 테스트 데이터셋 생성\n",
        "test_dataset = tf.data.Dataset.from_generator(\n",
        "    test_generator,\n",
        "    output_signature=test_output_signature\n",
        ")\n",
        "\n",
        "# 평가 함수 정의\n",
        "def evaluate_model(model, test_dataset):\n",
        "    # 모델 평가\n",
        "    test_loss = model.evaluate(test_dataset)\n",
        "    return test_loss\n",
        "\n",
        "# 모델 평가\n",
        "test_loss = evaluate_model(model, test_dataset)\n",
        "print(\"Test loss:\", test_loss)\n",
        "\n",
        "# 모델 저장\n",
        "model.save('/content/drive/MyDrive/Colab Notebooks/model/my_siamese_model.h5')"
      ]
    },
    {
      "cell_type": "markdown",
      "source": [
        "# 모델 테스트 : 두 이미지 간 유사도 계산"
      ],
      "metadata": {
        "id": "RgC-cmoJGbGf"
      }
    },
    {
      "cell_type": "code",
      "source": [
        "# 모델 사용: 두 이미지 간의 유사도 계산\n",
        "def calculate_similarity(model, img1, img2):\n",
        "    img1 = np.expand_dims(img1, axis=0)  # 배치 차원 추가\n",
        "    img2 = np.expand_dims(img2, axis=0)\n",
        "    distance = model.predict([img1, img2])\n",
        "    return distance[0][0]\n",
        "\n",
        "# 예시 이미지로 유사도 계산\n",
        "test_image1_path = '/content/drive/MyDrive/Colab Notebooks/cropped_images/IMG_OCR_53_4PR_04358_crop_0_6rCR64-Z.png'\n",
        "test_image2_path = '/content/drive/MyDrive/Colab Notebooks/cropped_images/IMG_OCR_53_4PR_04372_crop_0_7LC97KeE64-Z.png'\n",
        "\n",
        "# 이미지를 불러와서 전처리\n",
        "test_image1 = cv2.imread(test_image1_path)\n",
        "test_image2 = cv2.imread(test_image2_path)\n",
        "test_image1 = cv2.resize(test_image1, (224, 224)) / 255.0\n",
        "test_image2 = cv2.resize(test_image2, (224, 224)) / 255.0\n",
        "\n",
        "# 유사도 계산\n",
        "similarity = calculate_similarity(model, test_image1, test_image2)\n",
        "print(\"Similarity score:\", similarity)"
      ],
      "metadata": {
        "colab": {
          "base_uri": "https://localhost:8080/"
        },
        "id": "lx9C2mf4P4pa",
        "outputId": "43255be1-8fc7-4540-fe82-dcee1e0a6eb8"
      },
      "execution_count": 6,
      "outputs": [
        {
          "output_type": "stream",
          "name": "stdout",
          "text": [
            "\u001b[1m1/1\u001b[0m \u001b[32m━━━━━━━━━━━━━━━━━━━━\u001b[0m\u001b[37m\u001b[0m \u001b[1m1s\u001b[0m 604ms/step\n",
            "Similarity score: 0.00031622776\n"
          ]
        }
      ]
    },
    {
      "cell_type": "code",
      "source": [
        "# 성능평가\n",
        "from sklearn.metrics import accuracy_score, precision_score, recall_score, f1_score\n",
        "\n",
        "# 예측 및 정확도 계산 함수 정의\n",
        "\n",
        "def evaluate_model_performance(model, test_gen, threshold=0.5):\n",
        "    y_true = []\n",
        "    y_pred = []\n",
        "\n",
        "    for i in range(len(test_gen)):\n",
        "        (pair_0, pair_1), labels = test_gen[i]\n",
        "        predictions = model.predict([pair_0, pair_1])\n",
        "\n",
        "        y_true.extend(labels)\n",
        "\n",
        "        # 임계값을 조정하여 예측 결과를 이진 분류로 변환\n",
        "        y_pred.extend((predictions > threshold).astype(int))\n",
        "\n",
        "    accuracy = accuracy_score(y_true, y_pred)\n",
        "    precision = precision_score(y_true, y_pred)\n",
        "    recall = recall_score(y_true, y_pred)\n",
        "    f1 = f1_score(y_true, y_pred)\n",
        "\n",
        "    return accuracy, precision, recall, f1\n",
        "\n",
        "# 임계값을 변경하여 성능 평가\n",
        "thresholds = [0.3, 0.5, 0.7]\n",
        "for thresh in thresholds:\n",
        "    accuracy, precision, recall, f1 = evaluate_model_performance(model, test_gen, threshold=thresh)\n",
        "    print(f\"Threshold: {thresh}\")\n",
        "    print(f\"Accuracy: {accuracy:.4f}, Precision: {precision:.4f}, Recall: {recall:.4f}, F1 Score: {f1:.4f}\\n\")\n"
      ],
      "metadata": {
        "colab": {
          "base_uri": "https://localhost:8080/"
        },
        "id": "NTdXmhzaQupN",
        "outputId": "de2edca7-f49c-41d5-8620-54fa48ec48bf"
      },
      "execution_count": 8,
      "outputs": [
        {
          "output_type": "stream",
          "name": "stdout",
          "text": [
            "\u001b[1m1/1\u001b[0m \u001b[32m━━━━━━━━━━━━━━━━━━━━\u001b[0m\u001b[37m\u001b[0m \u001b[1m6s\u001b[0m 6s/step\n",
            "\u001b[1m1/1\u001b[0m \u001b[32m━━━━━━━━━━━━━━━━━━━━\u001b[0m\u001b[37m\u001b[0m \u001b[1m4s\u001b[0m 4s/step\n",
            "\u001b[1m1/1\u001b[0m \u001b[32m━━━━━━━━━━━━━━━━━━━━\u001b[0m\u001b[37m\u001b[0m \u001b[1m2s\u001b[0m 2s/step\n",
            "\u001b[1m1/1\u001b[0m \u001b[32m━━━━━━━━━━━━━━━━━━━━\u001b[0m\u001b[37m\u001b[0m \u001b[1m2s\u001b[0m 2s/step\n",
            "\u001b[1m1/1\u001b[0m \u001b[32m━━━━━━━━━━━━━━━━━━━━\u001b[0m\u001b[37m\u001b[0m \u001b[1m1s\u001b[0m 904ms/step\n",
            "Threshold: 0.3\n",
            "Accuracy: 0.9528, Precision: 0.0000, Recall: 0.0000, F1 Score: 0.0000\n",
            "\n"
          ]
        },
        {
          "output_type": "stream",
          "name": "stderr",
          "text": [
            "/usr/local/lib/python3.10/dist-packages/sklearn/metrics/_classification.py:1471: UndefinedMetricWarning: Precision is ill-defined and being set to 0.0 due to no predicted samples. Use `zero_division` parameter to control this behavior.\n",
            "  _warn_prf(average, modifier, msg_start, len(result))\n"
          ]
        },
        {
          "output_type": "stream",
          "name": "stdout",
          "text": [
            "\u001b[1m1/1\u001b[0m \u001b[32m━━━━━━━━━━━━━━━━━━━━\u001b[0m\u001b[37m\u001b[0m \u001b[1m3s\u001b[0m 3s/step\n",
            "\u001b[1m1/1\u001b[0m \u001b[32m━━━━━━━━━━━━━━━━━━━━\u001b[0m\u001b[37m\u001b[0m \u001b[1m4s\u001b[0m 4s/step\n",
            "\u001b[1m1/1\u001b[0m \u001b[32m━━━━━━━━━━━━━━━━━━━━\u001b[0m\u001b[37m\u001b[0m \u001b[1m2s\u001b[0m 2s/step\n",
            "\u001b[1m1/1\u001b[0m \u001b[32m━━━━━━━━━━━━━━━━━━━━\u001b[0m\u001b[37m\u001b[0m \u001b[1m2s\u001b[0m 2s/step\n",
            "\u001b[1m1/1\u001b[0m \u001b[32m━━━━━━━━━━━━━━━━━━━━\u001b[0m\u001b[37m\u001b[0m \u001b[1m1s\u001b[0m 901ms/step\n",
            "Threshold: 0.5\n",
            "Accuracy: 0.9528, Precision: 0.0000, Recall: 0.0000, F1 Score: 0.0000\n",
            "\n"
          ]
        },
        {
          "output_type": "stream",
          "name": "stderr",
          "text": [
            "/usr/local/lib/python3.10/dist-packages/sklearn/metrics/_classification.py:1471: UndefinedMetricWarning: Precision is ill-defined and being set to 0.0 due to no predicted samples. Use `zero_division` parameter to control this behavior.\n",
            "  _warn_prf(average, modifier, msg_start, len(result))\n"
          ]
        },
        {
          "output_type": "stream",
          "name": "stdout",
          "text": [
            "\u001b[1m1/1\u001b[0m \u001b[32m━━━━━━━━━━━━━━━━━━━━\u001b[0m\u001b[37m\u001b[0m \u001b[1m2s\u001b[0m 2s/step\n",
            "\u001b[1m1/1\u001b[0m \u001b[32m━━━━━━━━━━━━━━━━━━━━\u001b[0m\u001b[37m\u001b[0m \u001b[1m2s\u001b[0m 2s/step\n",
            "\u001b[1m1/1\u001b[0m \u001b[32m━━━━━━━━━━━━━━━━━━━━\u001b[0m\u001b[37m\u001b[0m \u001b[1m3s\u001b[0m 3s/step\n",
            "\u001b[1m1/1\u001b[0m \u001b[32m━━━━━━━━━━━━━━━━━━━━\u001b[0m\u001b[37m\u001b[0m \u001b[1m3s\u001b[0m 3s/step\n",
            "\u001b[1m1/1\u001b[0m \u001b[32m━━━━━━━━━━━━━━━━━━━━\u001b[0m\u001b[37m\u001b[0m \u001b[1m1s\u001b[0m 907ms/step\n",
            "Threshold: 0.7\n",
            "Accuracy: 0.9528, Precision: 0.0000, Recall: 0.0000, F1 Score: 0.0000\n",
            "\n"
          ]
        },
        {
          "output_type": "stream",
          "name": "stderr",
          "text": [
            "/usr/local/lib/python3.10/dist-packages/sklearn/metrics/_classification.py:1471: UndefinedMetricWarning: Precision is ill-defined and being set to 0.0 due to no predicted samples. Use `zero_division` parameter to control this behavior.\n",
            "  _warn_prf(average, modifier, msg_start, len(result))\n"
          ]
        }
      ]
    },
    {
      "cell_type": "code",
      "source": [
        "# 제일 비슷한 손글씨 찾기\n",
        "\n",
        "import pandas as pd\n",
        "import numpy as np\n",
        "import os\n",
        "import json\n",
        "import pprint\n",
        "\n",
        "import cv2\n",
        "import matplotlib.pyplot as plt\n",
        "plt.rcParams['font.family'] = 'Malgun Gothic'\n",
        "plt.rcParams['axes.unicode_minus'] = False\n",
        "import base64\n"
      ],
      "metadata": {
        "id": "adft2pVU2jrQ"
      },
      "execution_count": 15,
      "outputs": []
    },
    {
      "cell_type": "code",
      "source": [
        "# 제일 비슷한 손글씨 찾기\n",
        "\n",
        "# 1. 크롭한 손글씨 이미지, 텍스트 가져오기\n",
        "\n",
        "# 손글씨 이미지 파일명에서 Base64로 인코딩된 텍스트 추출\n",
        "def extract_text_from_handwritten_image_filename(filename):\n",
        "    base_name = os.path.basename(filename)\n",
        "    name_part = base_name.split('.png')[0]\n",
        "\n",
        "    # 파일명에서 Base64로 인코딩된 텍스트 부분 추출\n",
        "    base64_text = name_part.split('_')[-1]  # 마지막 부분이 Base64 텍스트라고 가정\n",
        "\n",
        "    # Base64 텍스트의 길이를 4의 배수로 맞추기 위해 패딩 추가\n",
        "    try:\n",
        "        base64_text += '=' * (-len(base64_text) % 4)\n",
        "        decoded_text = base64.b64decode(base64_text).decode('utf-8')\n",
        "        return decoded_text\n",
        "    except Exception as e:\n",
        "        print(f\"Error decoding Base64 text: {e}\")\n",
        "        return None"
      ],
      "metadata": {
        "id": "IVYUEbNoC1mv"
      },
      "execution_count": 74,
      "outputs": []
    },
    {
      "cell_type": "code",
      "source": [
        "handwritten_image_path = '/content/drive/MyDrive/Colab Notebooks/cropped_images/IMG_OCR_53_4PR_04358_crop_2_7LKc7LCo7Iqk.png'\n",
        "test=os.path.basename(handwritten_image_path).replace('.png','').split('_')[-1]\n",
        "# base64.b64decode(test+'===').decode('utf-8')\n",
        "# extract_text_from_handwritten_image_filename(handwritten_image_path)\n",
        "test\n",
        "test += '=' * (-len(test) % 4)\n",
        "base64.b64decode(test).decode('utf-8')\n"
      ],
      "metadata": {
        "colab": {
          "base_uri": "https://localhost:8080/",
          "height": 36
        },
        "id": "zSKioo9Omvw3",
        "outputId": "d5babf09-d545-4825-ae1a-6bd0df615b33"
      },
      "execution_count": 85,
      "outputs": [
        {
          "output_type": "execute_result",
          "data": {
            "text/plain": [
              "'천차스'"
            ],
            "application/vnd.google.colaboratory.intrinsic+json": {
              "type": "string"
            }
          },
          "metadata": {},
          "execution_count": 85
        }
      ]
    },
    {
      "cell_type": "code",
      "source": [
        "# 테스트\n",
        "handwritten_image_path = '/content/drive/MyDrive/Colab Notebooks/cropped_images/IMG_OCR_53_4PR_04367_crop_1_7Iug7Jqp64-Z.png'\n",
        "test = os.path.basename(handwritten_image_path).split('.png')[0].split('_')[-1]\n",
        "decoded_text = extract_text_from_handwritten_image_filename(handwritten_image_path)\n",
        "print(f\"Decoded text: {decoded_text}\")"
      ],
      "metadata": {
        "colab": {
          "base_uri": "https://localhost:8080/"
        },
        "id": "PRTriKI15rCc",
        "outputId": "225ae0b3-2a83-4664-ce0d-96147f656e30"
      },
      "execution_count": 73,
      "outputs": [
        {
          "output_type": "stream",
          "name": "stdout",
          "text": [
            "Error decoding Base64 text: Incorrect padding\n",
            "Decoded text: None\n"
          ]
        }
      ]
    },
    {
      "cell_type": "code",
      "source": [
        "import pandas as pd\n",
        "import numpy as np\n",
        "import os\n",
        "from PIL import Image, ImageDraw, ImageFont"
      ],
      "metadata": {
        "id": "GtS3NiBTnqFs"
      },
      "execution_count": 21,
      "outputs": []
    },
    {
      "cell_type": "code",
      "source": [
        "## 텍스트 이미지와 동일한 폰트 이미지 생성 및 저장\n",
        "\n",
        "def txt2image(path, fontName, draw_text):\n",
        "    try:\n",
        "        font = ImageFont.truetype(path, 25)\n",
        "    except IOError:\n",
        "        print(f\"Failed to load font from {path}\")\n",
        "        return\n",
        "\n",
        "    bbox = font.getbbox(draw_text)\n",
        "    text_width, text_height = bbox[2] - bbox[0], bbox[3] # gpt bbox[3] -> bbox[3]-bbox[1]\n",
        "    # 이미지 사이즈 지정\n",
        "    canvas_width = int(text_width * 1.1)\n",
        "    canvas_height = int(text_height * 1.2)\n",
        "\n",
        "    # 이미지 객체 생성 (배경 흰색)\n",
        "    canvas = Image.new('RGB', (canvas_width, canvas_height), \"white\")\n",
        "\n",
        "    draw = ImageDraw.Draw(canvas)\n",
        "    text_x = (canvas_width - text_width) / 2\n",
        "    text_y = (canvas_height - text_height) / 3\n",
        "    draw.text((text_x, text_y), draw_text, 'black', font)\n",
        "\n",
        "    save_directory = 'drive/MyDrive/Colab Notebooks/data/result2/'\n",
        "    if not os.path.exists(save_directory):\n",
        "        os.makedirs(save_directory)\n",
        "\n",
        "    file_name = f'{save_directory}{draw_text}_{fontName}.png'\n",
        "    canvas.save(file_name, \"PNG\")\n",
        "    print(f'Image saved at {file_name}')\n",
        "\n",
        "def font2image(draw_text):\n",
        "    path = '/content/drive/MyDrive/Colab Notebooks/data/font/'\n",
        "    # fonts_path_list = [os.path.join(path, f) for f in os.listdir(path) if f.endswith('.ttf')] #GPT 추천\n",
        "    fonts_path_list = list(map(lambda x: path + str(x), filter(lambda x: x.endswith('.ttf'), os.listdir(path))))\n",
        "\n",
        "    print('적용 폰트 종류와 그 갯수:', len(fonts_path_list))\n",
        "\n",
        "    for font_path in fonts_path_list:\n",
        "        font_name = font_path.split('/')[-1].replace('.ttf', '')  # 파일 경로에서 폰트 이름 추출\n",
        "        # print('\\t', font_name)\n",
        "        txt2image(font_path, font_name, draw_text)\n",
        "\n",
        "    # print('\\n변환 단어:', draw_text)\n",
        "\n"
      ],
      "metadata": {
        "id": "nQuSFvWJKQOH"
      },
      "execution_count": 91,
      "outputs": []
    },
    {
      "cell_type": "code",
      "source": [
        "handwritten_image_path = '/content/IMG_OCR_53_4PR_04358_crop_1_7ZWR7ZSE.png'\n",
        "target_text = extract_text_from_handwritten_image_filename(handwritten_image_path)\n",
        "\n",
        "if target_text:\n",
        "    font2image(target_text)\n",
        "else:\n",
        "    print(\"Target text could not be extracted from the handwritten image filename.\")\n",
        "\n",
        "\n",
        "fonts_list = list(map(lambda x:str(x), filter(lambda x: x.endswith('.ttf'), os.listdir(path))))\n",
        "\n",
        "if len(fonts_path_list) == len(fonts_list):\n",
        "    print('font 갯수: {}'.format(len(fonts_list)))\n",
        "    print('폰트 경로 예시: {}'.format(fonts_path_list[0]))\n",
        "    print('폰트 이름 예시: {}'.format(fonts_list[0]))"
      ],
      "metadata": {
        "colab": {
          "base_uri": "https://localhost:8080/"
        },
        "id": "1gQ8i8i2xark",
        "outputId": "45a2f2b1-17d0-40a3-9b64-a0315d8ff9c9"
      },
      "execution_count": 92,
      "outputs": [
        {
          "output_type": "stream",
          "name": "stdout",
          "text": [
            "적용 폰트 종류와 그 갯수: 19\n",
            "Image saved at drive/MyDrive/Colab Notebooks/data/result2/핑프_HakgyoansimGaeulsopungL.png\n",
            "Image saved at drive/MyDrive/Colab Notebooks/data/result2/핑프_EF_Diary(ttf).png\n",
            "Image saved at drive/MyDrive/Colab Notebooks/data/result2/핑프_CHOGOONCHICKENSCRATCHV5-Regular.png\n",
            "Image saved at drive/MyDrive/Colab Notebooks/data/result2/핑프_인천교육자람.png\n",
            "Image saved at drive/MyDrive/Colab Notebooks/data/result2/핑프_온글잎 윤우체.png\n",
            "Image saved at drive/MyDrive/Colab Notebooks/data/result2/핑프_태_흘림L.png\n",
            "Image saved at drive/MyDrive/Colab Notebooks/data/result2/핑프_MYHaemalgeunSangsang.png\n",
            "Image saved at drive/MyDrive/Colab Notebooks/data/result2/핑프_ROEHOE-CHAN.png\n",
            "Image saved at drive/MyDrive/Colab Notebooks/data/result2/핑프_KCCPakKyongni(Windows용).png\n",
            "Image saved at drive/MyDrive/Colab Notebooks/data/result2/핑프_THEFACESHOP+INKLIPQUID(윈도우용).png\n",
            "Image saved at drive/MyDrive/Colab Notebooks/data/result2/핑프_YEONGJUSeonbi.png\n",
            "Image saved at drive/MyDrive/Colab Notebooks/data/result2/핑프_MYArirang.png\n",
            "Image saved at drive/MyDrive/Colab Notebooks/data/result2/핑프_MYArirang_gothic.png\n",
            "Image saved at drive/MyDrive/Colab Notebooks/data/result2/핑프_SSFlowerRoadRegular.png\n",
            "Image saved at drive/MyDrive/Colab Notebooks/data/result2/핑프_UhBee Se_hyun Bold.png\n",
            "Image saved at drive/MyDrive/Colab Notebooks/data/result2/핑프_나눔손글씨 손편지체.png\n",
            "Image saved at drive/MyDrive/Colab Notebooks/data/result2/핑프_MYYeongnamnu.png\n",
            "Image saved at drive/MyDrive/Colab Notebooks/data/result2/핑프_Rix X ladywatermelon Regular.png\n",
            "Image saved at drive/MyDrive/Colab Notebooks/data/result2/핑프_온글잎 김콩해.png\n",
            "font 갯수: 19\n",
            "폰트 경로 예시: /content/drive/MyDrive/Colab Notebooks/data/fontHakgyoansimGaeulsopungL.ttf\n",
            "폰트 이름 예시: HakgyoansimGaeulsopungL.ttf\n"
          ]
        }
      ]
    },
    {
      "cell_type": "code",
      "source": [
        "path = '/content/drive/MyDrive/Colab Notebooks/data/font/'\n",
        "\n",
        "fonts_path_list=list(map(lambda x: path + str(x), filter(lambda x: x.endswith('.ttf'), os.listdir(path))))\n",
        "[os.path.join(path, f) for f in os.listdir(path) if f.endswith('.ttf')]\n",
        "os.path.basename(fonts_path_list[0])\n",
        "# fonts_path_list[0]"
      ],
      "metadata": {
        "colab": {
          "base_uri": "https://localhost:8080/",
          "height": 36
        },
        "id": "3tI4LoMSvIvD",
        "outputId": "1b6b8c5c-a8c8-4a54-a1ce-3d51c14b556b"
      },
      "execution_count": 35,
      "outputs": [
        {
          "output_type": "execute_result",
          "data": {
            "text/plain": [
              "'HakgyoansimGaeulsopungL.ttf'"
            ],
            "application/vnd.google.colaboratory.intrinsic+json": {
              "type": "string"
            }
          },
          "metadata": {},
          "execution_count": 35
        }
      ]
    },
    {
      "cell_type": "code",
      "source": [
        "def load_images_and_labels(image_dir, target_size=(224, 224)):\n",
        "    images = []\n",
        "    labels = []\n",
        "    for file_name in os.listdir(image_dir):\n",
        "        if file_name.endswith('.png'):\n",
        "            base_name = os.path.basename(file_name)\n",
        "            name_part = base_name.split('.png')[0]\n",
        "            text = name_part.split('_')[0]\n",
        "            font = '_'.join(name.split('_')[1:])\n",
        "\n",
        "\n",
        "            # 이미지 파일 로드\n",
        "            image_path = os.path.join(image_dir, file_name)\n",
        "            image = cv2.imread(image_path)\n",
        "            if image is not None:\n",
        "                # 이미지 크기 조정\n",
        "                image = cv2.resize(image, target_size)\n",
        "                image = image / 255.0  # 정규화\n",
        "                images.append(image)\n",
        "                labels.append((text, font))\n",
        "            else:\n",
        "                print(f\"Error loading image {image_path}\")\n",
        "\n",
        "    return np.array(images), labels"
      ],
      "metadata": {
        "id": "2b72kaY0yM3f"
      },
      "execution_count": 61,
      "outputs": []
    },
    {
      "cell_type": "code",
      "source": [
        "image_dir = '/content/result2'\n",
        "\n",
        "name=os.path.basename(os.listdir(image_dir)[0]).replace('.png','')\n",
        "text=name.split('_')[0]\n",
        "'_'.join(name.split('_')[1:])\n",
        "# name.split('_')\n",
        "\n",
        "os.path.join(image_dir,os.listdir(image_dir)[0])"
      ],
      "metadata": {
        "colab": {
          "base_uri": "https://localhost:8080/",
          "height": 36
        },
        "id": "ifbdeRzTy92B",
        "outputId": "97a6de9a-6327-4102-b880-45068832be3b"
      },
      "execution_count": 60,
      "outputs": [
        {
          "output_type": "execute_result",
          "data": {
            "text/plain": [
              "'/content/result2/핑프_EF_Diary(ttf).png'"
            ],
            "application/vnd.google.colaboratory.intrinsic+json": {
              "type": "string"
            }
          },
          "metadata": {},
          "execution_count": 60
        }
      ]
    },
    {
      "cell_type": "code",
      "source": [
        "# 유사도 계산 및 가장 높은 유사도 이미지 검색\n",
        "def calculate_similarity(model, img1, img2):\n",
        "    img1 = np.expand_dims(img1, axis=0)  # 배치 차원 추가\n",
        "    img2 = np.expand_dims(img2, axis=0)\n",
        "    distance = model.predict([img1, img2])\n",
        "    return distance[0][0]\n",
        "\n",
        "def find_most_similar_font_image(handwritten_image, font_images, model):\n",
        "    highest_similarity = -1\n",
        "    most_similar_image = None\n",
        "\n",
        "    for font_image in font_images:\n",
        "        similarity = calculate_similarity(model, handwritten_image, font_image)\n",
        "        if similarity > highest_similarity:\n",
        "            highest_similarity = similarity\n",
        "            most_similar_image = font_image\n",
        "\n",
        "    return most_similar_image, highest_similarity"
      ],
      "metadata": {
        "id": "hnf8AHwjOqMv"
      },
      "execution_count": 46,
      "outputs": []
    },
    {
      "cell_type": "code",
      "source": [
        "# 전체 프로세스 ...?\n",
        "# 가져온 이미지에서 target_text 를 가지고 오는 함수가 추가되어야 함. > 추가 완\n",
        "def find_best_matching_font_image(handwritten_image, save_path, model):\n",
        "    target_text = extract_text_from_handwritten_image_filename(handwritten_image_path)\n",
        "    font2image(target_text)\n",
        "\n",
        "    filtered_images, filtered_labels = load_images_and_labels(save_path)\n",
        "\n",
        "    if len(filtered_images) == 0:\n",
        "        print(\"No matching font images found for the given text.\")\n",
        "        return None, None, None\n",
        "\n",
        "    most_similar_image = None\n",
        "    highest_similarity = -1\n",
        "    most_similar_label = None\n",
        "\n",
        "    for img, label in zip(filtered_images, filtered_labels):\n",
        "        similarity = calculate_similarity(model, handwritten_image, img)\n",
        "        if similarity > highest_similarity:\n",
        "            highest_similarity = similarity\n",
        "            most_similar_image = img\n",
        "            most_similar_label = label\n",
        "\n",
        "    return most_similar_image, most_similar_label, highest_similarity\n"
      ],
      "metadata": {
        "id": "yx1p56QcOvLg"
      },
      "execution_count": 62,
      "outputs": []
    },
    {
      "cell_type": "code",
      "source": [
        "# 손글씨 이미지 로드 및 전처리\n",
        "# 손글씨 이미지 로드 및 전처리\n",
        "handwritten_image_path = '/content/drive/MyDrive/Colab Notebooks/cropped_images/IMG_OCR_53_4PR_04425_crop_8_66eI7IOB.png'\n",
        "handwritten_image = cv2.imread(handwritten_image_path)\n",
        "handwritten_image = cv2.resize(handwritten_image, (224, 224)) / 255.0\n",
        "save_path = '/content/drive/MyDrive/Colab Notebooks/data/result2'\n",
        "\n",
        "\n",
        "# 가장 유사한 폰트 이미지 찾기\n",
        "most_similar_image, most_similar_label, similarity_score = find_best_matching_font_image(handwritten_image, save_path, model)\n",
        "\n",
        "if most_similar_image is not None:\n",
        "    print(f\"Most similar font image found with similarity score: {similarity_score}\")\n",
        "    print(f\"Font name: {most_similar_label[1]}\")\n",
        "\n",
        "    plt.figure(figsize=(10, 5))\n",
        "\n",
        "    plt.subplot(1, 2, 1)\n",
        "    plt.title('Handwritten Image')\n",
        "    plt.imshow(handwritten_image, cmap='gray')\n",
        "    plt.axis('off')\n",
        "\n",
        "    plt.subplot(1, 2, 2)\n",
        "    plt.title(f'Most Similar Font Image\\nFont: {most_similar_label[1]}')\n",
        "    plt.imshow(most_similar_image, cmap='gray')\n",
        "    plt.axis('off')\n",
        "\n",
        "    plt.show()\n",
        "else:\n",
        "    print(\"No similar font image found.\")\n",
        "\n",
        "\n",
        "# 새로 돌리기 전 폴더 내용물 삭제\n",
        "import os\n",
        "import glob\n",
        "\n",
        "\n",
        "# 해당 폴더 내의 모든 파일 경로를 가져옴\n",
        "files = glob.glob(os.path.join(save_path, \"*\"))\n",
        "\n",
        "# 각 파일을 삭제\n",
        "for file in files:\n",
        "    if os.path.isfile(file):  # 파일인 경우만 삭제\n",
        "        os.remove(file)\n",
        "\n",
        "print(\"모든 파일이 삭제되었습니다.\")"
      ],
      "metadata": {
        "colab": {
          "base_uri": "https://localhost:8080/",
          "height": 1000
        },
        "id": "9tqehR_fPACY",
        "outputId": "e9edfd0d-25d8-4cd4-e13b-0063ca6116d6"
      },
      "execution_count": 101,
      "outputs": [
        {
          "output_type": "stream",
          "name": "stdout",
          "text": [
            "적용 폰트 종류와 그 갯수: 19\n",
            "Image saved at drive/MyDrive/Colab Notebooks/data/result2/마상_HakgyoansimGaeulsopungL.png\n",
            "Image saved at drive/MyDrive/Colab Notebooks/data/result2/마상_EF_Diary(ttf).png\n",
            "Image saved at drive/MyDrive/Colab Notebooks/data/result2/마상_CHOGOONCHICKENSCRATCHV5-Regular.png\n",
            "Image saved at drive/MyDrive/Colab Notebooks/data/result2/마상_인천교육자람.png\n",
            "Image saved at drive/MyDrive/Colab Notebooks/data/result2/마상_온글잎 윤우체.png\n",
            "Image saved at drive/MyDrive/Colab Notebooks/data/result2/마상_태_흘림L.png\n",
            "Image saved at drive/MyDrive/Colab Notebooks/data/result2/마상_MYHaemalgeunSangsang.png\n",
            "Image saved at drive/MyDrive/Colab Notebooks/data/result2/마상_ROEHOE-CHAN.png\n",
            "Image saved at drive/MyDrive/Colab Notebooks/data/result2/마상_KCCPakKyongni(Windows용).png\n",
            "Image saved at drive/MyDrive/Colab Notebooks/data/result2/마상_THEFACESHOP+INKLIPQUID(윈도우용).png\n",
            "Image saved at drive/MyDrive/Colab Notebooks/data/result2/마상_YEONGJUSeonbi.png\n",
            "Image saved at drive/MyDrive/Colab Notebooks/data/result2/마상_MYArirang.png\n",
            "Image saved at drive/MyDrive/Colab Notebooks/data/result2/마상_MYArirang_gothic.png\n",
            "Image saved at drive/MyDrive/Colab Notebooks/data/result2/마상_SSFlowerRoadRegular.png\n",
            "Image saved at drive/MyDrive/Colab Notebooks/data/result2/마상_UhBee Se_hyun Bold.png\n",
            "Image saved at drive/MyDrive/Colab Notebooks/data/result2/마상_나눔손글씨 손편지체.png\n",
            "Image saved at drive/MyDrive/Colab Notebooks/data/result2/마상_MYYeongnamnu.png\n",
            "Image saved at drive/MyDrive/Colab Notebooks/data/result2/마상_Rix X ladywatermelon Regular.png\n",
            "Image saved at drive/MyDrive/Colab Notebooks/data/result2/마상_온글잎 김콩해.png\n",
            "\u001b[1m1/1\u001b[0m \u001b[32m━━━━━━━━━━━━━━━━━━━━\u001b[0m\u001b[37m\u001b[0m \u001b[1m0s\u001b[0m 262ms/step\n",
            "\u001b[1m1/1\u001b[0m \u001b[32m━━━━━━━━━━━━━━━━━━━━\u001b[0m\u001b[37m\u001b[0m \u001b[1m0s\u001b[0m 167ms/step\n",
            "\u001b[1m1/1\u001b[0m \u001b[32m━━━━━━━━━━━━━━━━━━━━\u001b[0m\u001b[37m\u001b[0m \u001b[1m0s\u001b[0m 177ms/step\n",
            "\u001b[1m1/1\u001b[0m \u001b[32m━━━━━━━━━━━━━━━━━━━━\u001b[0m\u001b[37m\u001b[0m \u001b[1m0s\u001b[0m 260ms/step\n",
            "\u001b[1m1/1\u001b[0m \u001b[32m━━━━━━━━━━━━━━━━━━━━\u001b[0m\u001b[37m\u001b[0m \u001b[1m0s\u001b[0m 210ms/step\n",
            "\u001b[1m1/1\u001b[0m \u001b[32m━━━━━━━━━━━━━━━━━━━━\u001b[0m\u001b[37m\u001b[0m \u001b[1m0s\u001b[0m 176ms/step\n",
            "\u001b[1m1/1\u001b[0m \u001b[32m━━━━━━━━━━━━━━━━━━━━\u001b[0m\u001b[37m\u001b[0m \u001b[1m0s\u001b[0m 127ms/step\n",
            "\u001b[1m1/1\u001b[0m \u001b[32m━━━━━━━━━━━━━━━━━━━━\u001b[0m\u001b[37m\u001b[0m \u001b[1m0s\u001b[0m 122ms/step\n",
            "\u001b[1m1/1\u001b[0m \u001b[32m━━━━━━━━━━━━━━━━━━━━\u001b[0m\u001b[37m\u001b[0m \u001b[1m0s\u001b[0m 169ms/step\n",
            "\u001b[1m1/1\u001b[0m \u001b[32m━━━━━━━━━━━━━━━━━━━━\u001b[0m\u001b[37m\u001b[0m \u001b[1m0s\u001b[0m 169ms/step\n",
            "\u001b[1m1/1\u001b[0m \u001b[32m━━━━━━━━━━━━━━━━━━━━\u001b[0m\u001b[37m\u001b[0m \u001b[1m0s\u001b[0m 168ms/step\n",
            "\u001b[1m1/1\u001b[0m \u001b[32m━━━━━━━━━━━━━━━━━━━━\u001b[0m\u001b[37m\u001b[0m \u001b[1m0s\u001b[0m 152ms/step\n",
            "\u001b[1m1/1\u001b[0m \u001b[32m━━━━━━━━━━━━━━━━━━━━\u001b[0m\u001b[37m\u001b[0m \u001b[1m0s\u001b[0m 146ms/step\n",
            "\u001b[1m1/1\u001b[0m \u001b[32m━━━━━━━━━━━━━━━━━━━━\u001b[0m\u001b[37m\u001b[0m \u001b[1m0s\u001b[0m 123ms/step\n",
            "\u001b[1m1/1\u001b[0m \u001b[32m━━━━━━━━━━━━━━━━━━━━\u001b[0m\u001b[37m\u001b[0m \u001b[1m0s\u001b[0m 296ms/step\n",
            "\u001b[1m1/1\u001b[0m \u001b[32m━━━━━━━━━━━━━━━━━━━━\u001b[0m\u001b[37m\u001b[0m \u001b[1m0s\u001b[0m 104ms/step\n",
            "\u001b[1m1/1\u001b[0m \u001b[32m━━━━━━━━━━━━━━━━━━━━\u001b[0m\u001b[37m\u001b[0m \u001b[1m0s\u001b[0m 91ms/step\n",
            "\u001b[1m1/1\u001b[0m \u001b[32m━━━━━━━━━━━━━━━━━━━━\u001b[0m\u001b[37m\u001b[0m \u001b[1m0s\u001b[0m 85ms/step\n",
            "\u001b[1m1/1\u001b[0m \u001b[32m━━━━━━━━━━━━━━━━━━━━\u001b[0m\u001b[37m\u001b[0m \u001b[1m0s\u001b[0m 87ms/step\n",
            "Most similar font image found with similarity score: 0.0003162277571391314\n",
            "Font name: EF_Diary(ttf)\n"
          ]
        },
        {
          "output_type": "stream",
          "name": "stderr",
          "text": [
            "WARNING:matplotlib.font_manager:findfont: Font family 'Malgun Gothic' not found.\n",
            "WARNING:matplotlib.font_manager:findfont: Font family 'Malgun Gothic' not found.\n",
            "WARNING:matplotlib.font_manager:findfont: Font family 'Malgun Gothic' not found.\n",
            "WARNING:matplotlib.font_manager:findfont: Font family 'Malgun Gothic' not found.\n",
            "WARNING:matplotlib.font_manager:findfont: Font family 'Malgun Gothic' not found.\n",
            "WARNING:matplotlib.font_manager:findfont: Font family 'Malgun Gothic' not found.\n",
            "WARNING:matplotlib.font_manager:findfont: Font family 'Malgun Gothic' not found.\n",
            "WARNING:matplotlib.font_manager:findfont: Font family 'Malgun Gothic' not found.\n",
            "WARNING:matplotlib.font_manager:findfont: Font family 'Malgun Gothic' not found.\n",
            "WARNING:matplotlib.font_manager:findfont: Font family 'Malgun Gothic' not found.\n",
            "WARNING:matplotlib.font_manager:findfont: Font family 'Malgun Gothic' not found.\n",
            "WARNING:matplotlib.font_manager:findfont: Font family 'Malgun Gothic' not found.\n",
            "WARNING:matplotlib.font_manager:findfont: Font family 'Malgun Gothic' not found.\n",
            "WARNING:matplotlib.font_manager:findfont: Font family 'Malgun Gothic' not found.\n",
            "WARNING:matplotlib.font_manager:findfont: Font family 'Malgun Gothic' not found.\n",
            "WARNING:matplotlib.font_manager:findfont: Font family 'Malgun Gothic' not found.\n",
            "WARNING:matplotlib.font_manager:findfont: Font family 'Malgun Gothic' not found.\n",
            "WARNING:matplotlib.font_manager:findfont: Font family 'Malgun Gothic' not found.\n",
            "WARNING:matplotlib.font_manager:findfont: Font family 'Malgun Gothic' not found.\n",
            "WARNING:matplotlib.font_manager:findfont: Font family 'Malgun Gothic' not found.\n",
            "WARNING:matplotlib.font_manager:findfont: Font family 'Malgun Gothic' not found.\n",
            "WARNING:matplotlib.font_manager:findfont: Font family 'Malgun Gothic' not found.\n",
            "WARNING:matplotlib.font_manager:findfont: Font family 'Malgun Gothic' not found.\n",
            "WARNING:matplotlib.font_manager:findfont: Font family 'Malgun Gothic' not found.\n",
            "WARNING:matplotlib.font_manager:findfont: Font family 'Malgun Gothic' not found.\n",
            "WARNING:matplotlib.font_manager:findfont: Font family 'Malgun Gothic' not found.\n",
            "WARNING:matplotlib.font_manager:findfont: Font family 'Malgun Gothic' not found.\n",
            "WARNING:matplotlib.font_manager:findfont: Font family 'Malgun Gothic' not found.\n",
            "WARNING:matplotlib.font_manager:findfont: Font family 'Malgun Gothic' not found.\n",
            "WARNING:matplotlib.font_manager:findfont: Font family 'Malgun Gothic' not found.\n",
            "WARNING:matplotlib.font_manager:findfont: Font family 'Malgun Gothic' not found.\n"
          ]
        },
        {
          "output_type": "display_data",
          "data": {
            "text/plain": [
              "<Figure size 1000x500 with 2 Axes>"
            ],
            "image/png": "[encoded data removed]"
          },
          "metadata": {}
        },
        {
          "output_type": "stream",
          "name": "stdout",
          "text": [
            "모든 파일이 삭제되었습니다.\n"
          ]
        }
      ]
    },
    {
      "cell_type": "code",
      "source": [
        "# 새로 돌리기 전 폴더 내용물 삭제\n",
        "import os\n",
        "import glob\n",
        "\n",
        "\n",
        "# 해당 폴더 내의 모든 파일 경로를 가져옴\n",
        "files = glob.glob(os.path.join(save_path, \"*\"))\n",
        "\n",
        "# 각 파일을 삭제\n",
        "for file in files:\n",
        "    if os.path.isfile(file):  # 파일인 경우만 삭제\n",
        "        os.remove(file)\n",
        "\n",
        "print(\"모든 파일이 삭제되었습니다.\")"
      ],
      "metadata": {
        "colab": {
          "base_uri": "https://localhost:8080/"
        },
        "id": "O6Qndv5Ol4pH",
        "outputId": "a9030dd8-3d65-481b-8c06-2bc2020d127e"
      },
      "execution_count": 94,
      "outputs": [
        {
          "output_type": "stream",
          "name": "stdout",
          "text": [
            "모든 파일이 삭제되었습니다.\n"
          ]
        }
      ]
    },
    {
      "cell_type": "code",
      "source": [
        "files = glob.glob(os.path.join(save_path, \"*\"))"
      ],
      "metadata": {
        "id": "Nbr1B6XD8VFY"
      },
      "execution_count": 95,
      "outputs": []
    },
    {
      "cell_type": "code",
      "source": [],
      "metadata": {
        "id": "I4qUwLk-9Hpw"
      },
      "execution_count": null,
      "outputs": []
    }
  ]
}