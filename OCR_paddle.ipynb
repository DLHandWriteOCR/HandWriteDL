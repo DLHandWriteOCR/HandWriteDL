{
 "cells": [
  {
   "cell_type": "markdown",
   "id": "d2028ec7",
   "metadata": {},
   "source": [
    "# OCR 모델 이용해 text detection & text recognition 작업 수행"
   ]
  },
  {
   "cell_type": "code",
   "execution_count": 1,
   "id": "b15236b2",
   "metadata": {
    "ExecuteTime": {
     "end_time": "2024-08-26T22:32:49.761736Z",
     "start_time": "2024-08-26T22:32:49.747773Z"
    }
   },
   "outputs": [],
   "source": [
    "# import torch\n",
    "# torch.cuda.is_available()\n",
    "# torch.cuda.get_device_name(0)"
   ]
  },
  {
   "cell_type": "code",
   "execution_count": 2,
   "id": "6c3dc98a",
   "metadata": {
    "ExecuteTime": {
     "end_time": "2024-08-26T22:32:56.165484Z",
     "start_time": "2024-08-26T22:32:49.764665Z"
    }
   },
   "outputs": [],
   "source": [
    "import pandas as pd\n",
    "import numpy as np\n",
    "import os\n",
    "import json\n",
    "import pprint\n",
    "import glob\n",
    "\n",
    "import tensorflow as tf\n",
    "import cv2\n",
    "from tensorflow.keras import backend as K\n",
    "import matplotlib.pyplot as plt\n",
    "plt.rcParams['font.family'] = 'Malgun Gothic'\n",
    "plt.rcParams['axes.unicode_minus'] = False\n",
    "\n",
    "import paddleocr\n",
    "from paddleocr import PaddleOCR, draw_ocr\n",
    "os.environ['KMP_DUPLICATE_LIB_OK'] = 'True'"
   ]
  },
  {
   "cell_type": "markdown",
   "id": "0f7e63d4",
   "metadata": {},
   "source": [
    "## 데이터 구조 확인하기"
   ]
  },
  {
   "cell_type": "markdown",
   "id": "6c795477",
   "metadata": {},
   "source": [
    "### 데이터 목록이 제대로 있는지 확인하는 코드"
   ]
  },
  {
   "cell_type": "markdown",
   "id": "2c1c427b",
   "metadata": {},
   "source": [
    "# ! 다음 내용을 이용해서 각자 데이터 다운받은것 갯수 확인 부탁드려요\n",
    "# 각자 코드 돌릴 때 데이터가 다를 경우 추후 오류날 가능성 있음"
   ]
  },
  {
   "cell_type": "code",
   "execution_count": 3,
   "id": "b9007a84",
   "metadata": {
    "ExecuteTime": {
     "end_time": "2024-08-26T22:32:56.732613Z",
     "start_time": "2024-08-26T22:32:56.166794Z"
    }
   },
   "outputs": [
    {
     "name": "stdout",
     "output_type": "stream",
     "text": [
      "data/HW_OCR/4.Validation/P.Paper/R.Free/.json: 35535개\n",
      "data/HW_OCR/4.Validation/P.Paper/R.Free/.png: 35535개\n",
      "\n",
      "data/HW_OCR/4.Validation/P.Paper/O.Form/.json: 43170개\n",
      "data/HW_OCR/4.Validation/P.Paper/O.Form/.png: 43170개\n",
      "\n",
      "data/HW_OCR/4.Validation/T.Tablet/R.Free/.json: 4789개\n",
      "data/HW_OCR/4.Validation/T.Tablet/R.Free/.png: 4789개\n",
      "\n",
      "data/HW_OCR/4.Validation/T.Tablet/O.Form/.json: 12525개\n",
      "data/HW_OCR/4.Validation/T.Tablet/O.Form/.png: 12525개\n",
      "\n"
     ]
    }
   ],
   "source": [
    "# JSON 파일 목록 정리\n",
    "basic_path = 'data/HW_OCR/4.Validation/'\n",
    "backgrounds = ['P.Paper/', 'T.Tablet/']\n",
    "contents = ['R.Free/', 'O.Form/']\n",
    "json_files_list = []\n",
    "png_list = []\n",
    "\n",
    "for background in backgrounds:\n",
    "    for content in contents:\n",
    "        tmp = []\n",
    "        path = basic_path + background + content\n",
    "        tmp = list(map(lambda x: path + str(x), filter(lambda x: x.endswith('.json'), os.listdir(path))))\n",
    "        json_files_list.append(tmp)\n",
    "        print('{}.json: {}개'.format(path, len(tmp)))\n",
    "        \n",
    "        tmp = list(map(lambda x: path + str(x), filter(lambda x: x.endswith('.png'), os.listdir(path))))\n",
    "        png_list.append(tmp)\n",
    "        print('{}.png: {}개'.format(path, len(tmp)))\n",
    "        print()"
   ]
  },
  {
   "cell_type": "code",
   "execution_count": 4,
   "id": "84b594d5",
   "metadata": {
    "ExecuteTime": {
     "end_time": "2024-08-26T22:32:56.745807Z",
     "start_time": "2024-08-26T22:32:56.734382Z"
    }
   },
   "outputs": [
    {
     "name": "stdout",
     "output_type": "stream",
     "text": [
      "갖고 있는 json 데이터 목록\n",
      "78705 17314 96019\n",
      "데이터 사이트 - 내가 갖고 있는 데이터 목록\n",
      "8500 2000 10500\n",
      "\n",
      "갖고 있는 png 데이터 목록\n",
      "78705 17314 96019\n",
      "데이터 사이트 - 내가 갖고 있는 데이터 목록\n",
      "8500 2000 10500\n"
     ]
    }
   ],
   "source": [
    "P1 = len(json_files_list[0]) + len(json_files_list[1])\n",
    "T1 = len(json_files_list[2]) + len(json_files_list[3])\n",
    "print('갖고 있는 json 데이터 목록')\n",
    "print(P1, T1, P1+T1)\n",
    "print('데이터 사이트 - 내가 갖고 있는 데이터 목록')\n",
    "print(87205 - P1, 19314 - T1, 106519 - (P1+T1))\n",
    "\n",
    "print()\n",
    "\n",
    "P2 = len(png_list[0]) + len(png_list[1])\n",
    "T2 = len(png_list[2]) + len(png_list[3])\n",
    "print('갖고 있는 png 데이터 목록')\n",
    "print(P2, T2, P2+T2)\n",
    "print('데이터 사이트 - 내가 갖고 있는 데이터 목록')\n",
    "print(87205 - P2, 19314 - T2, 106519 - (P2+T2))"
   ]
  },
  {
   "cell_type": "code",
   "execution_count": 5,
   "id": "5cec2f9d",
   "metadata": {
    "ExecuteTime": {
     "end_time": "2024-08-26T22:32:56.775656Z",
     "start_time": "2024-08-26T22:32:56.745807Z"
    }
   },
   "outputs": [
    {
     "name": "stdout",
     "output_type": "stream",
     "text": [
      "{'Annotation': {'object_recognition': 0, 'text_language': 0},\n",
      " 'Dataset': {'category': 0,\n",
      "             'identifier': 'IMG_OCR_53',\n",
      "             'label_path': 'HW_OCR/4.Validation/P.Paper/R.Free/',\n",
      "             'name': '대용량 손글씨 데이터셋',\n",
      "             'src_path': 'HW_OCR/4.Validation/P.Paper/R.Free/',\n",
      "             'type': 1},\n",
      " 'Images': {'acquistion_location': '자체',\n",
      "            'application_field': '기타',\n",
      "            'background': 0,\n",
      "            'data_captured': '2021.09.06',\n",
      "            'height': 3482,\n",
      "            'identifier': 'IMG_OCR_53_4PR_21045',\n",
      "            'media_type': 0,\n",
      "            'pen_color': 'red',\n",
      "            'pen_type': 0,\n",
      "            'type': 'png',\n",
      "            'width': 2469,\n",
      "            'writer_age': 47,\n",
      "            'writer_sex': 1,\n",
      "            'written_content': 1},\n",
      " 'bbox': [{'data': '021045',\n",
      "           'id': 1,\n",
      "           'x': [1857, 1857, 2262, 2262],\n",
      "           'y': [153, 248, 153, 248]},\n",
      "          {'data': '경상북도',\n",
      "           'id': 2,\n",
      "           'x': [347, 347, 746, 746],\n",
      "           'y': [1017, 1154, 1017, 1154]},\n",
      "          {'data': '대구광역시',\n",
      "           'id': 3,\n",
      "           'x': [880, 880, 1263, 1263],\n",
      "           'y': [1019, 1150, 1019, 1150]},\n",
      "          {'data': '전라북도',\n",
      "           'id': 4,\n",
      "           'x': [1400, 1400, 1766, 1766],\n",
      "           'y': [1013, 1141, 1013, 1141]},\n",
      "          {'data': '울산광역시',\n",
      "           'id': 5,\n",
      "           'x': [1910, 1910, 2319, 2319],\n",
      "           'y': [1013, 1147, 1013, 1147]},\n",
      "          {'data': '강원도',\n",
      "           'id': 6,\n",
      "           'x': [389, 389, 732, 732],\n",
      "           'y': [1203, 1366, 1203, 1366]},\n",
      "          {'data': '남원시',\n",
      "           'id': 7,\n",
      "           'x': [916, 916, 1210, 1210],\n",
      "           'y': [1222, 1366, 1222, 1366]},\n",
      "          {'data': '성동구',\n",
      "           'id': 8,\n",
      "           'x': [1439, 1439, 1766, 1766],\n",
      "           'y': [1206, 1376, 1206, 1376]},\n",
      "          {'data': '미추홀구',\n",
      "           'id': 9,\n",
      "           'x': [1952, 1952, 2295, 2295],\n",
      "           'y': [1216, 1376, 1216, 1376]},\n",
      "          {'data': '해남읍',\n",
      "           'id': 10,\n",
      "           'x': [425, 425, 713, 713],\n",
      "           'y': [1431, 1581, 1431, 1581]},\n",
      "          {'data': '소초면',\n",
      "           'id': 11,\n",
      "           'x': [926, 926, 1237, 1237],\n",
      "           'y': [1431, 1565, 1431, 1565]},\n",
      "          {'data': '삼각동',\n",
      "           'id': 12,\n",
      "           'x': [1439, 1439, 1756, 1756],\n",
      "           'y': [1445, 1589, 1445, 1589]},\n",
      "          {'data': '모현동2가',\n",
      "           'id': 13,\n",
      "           'x': [1867, 1867, 2289, 2289],\n",
      "           'y': [1461, 1595, 1461, 1595]},\n",
      "          {'data': '의신면',\n",
      "           'id': 14,\n",
      "           'x': [419, 419, 756, 756],\n",
      "           'y': [1664, 1814, 1664, 1814]},\n",
      "          {'data': '외서면',\n",
      "           'id': 15,\n",
      "           'x': [942, 942, 1246, 1246],\n",
      "           'y': [1650, 1804, 1650, 1804]},\n",
      "          {'data': '사근동',\n",
      "           'id': 16,\n",
      "           'x': [1458, 1458, 1778, 1778],\n",
      "           'y': [1667, 1821, 1667, 1821]},\n",
      "          {'data': '오부면',\n",
      "           'id': 17,\n",
      "           'x': [1975, 1975, 2292, 2292],\n",
      "           'y': [1677, 1811, 1677, 1811]},\n",
      "          {'data': '오저치고',\n",
      "           'id': 18,\n",
      "           'x': [412, 412, 778, 778],\n",
      "           'y': [1879, 2033, 1879, 2033]},\n",
      "          {'data': '뇌색넘',\n",
      "           'id': 19,\n",
      "           'x': [916, 916, 1207, 1207],\n",
      "           'y': [1879, 2020, 1879, 2020]},\n",
      "          {'data': '애빼시',\n",
      "           'id': 20,\n",
      "           'x': [1409, 1409, 1746, 1746],\n",
      "           'y': [1883, 2037, 1883, 2037]},\n",
      "          {'data': '세젤',\n",
      "           'id': 21,\n",
      "           'x': [1995, 1995, 2260, 2260],\n",
      "           'y': [1873, 2040, 1873, 2040]},\n",
      "          {'data': 'CDMA',\n",
      "           'id': 22,\n",
      "           'x': [376, 376, 719, 719],\n",
      "           'y': [2095, 2242, 2095, 2242]},\n",
      "          {'data': 'ISP',\n",
      "           'id': 23,\n",
      "           'x': [939, 939, 1171, 1171],\n",
      "           'y': [2102, 2262, 2102, 2262]},\n",
      "          {'data': 'GBE',\n",
      "           'id': 24,\n",
      "           'x': [1458, 1458, 1752, 1752],\n",
      "           'y': [2098, 2248, 2098, 2248]},\n",
      "          {'data': 'DVR',\n",
      "           'id': 25,\n",
      "           'x': [1975, 1975, 2256, 2256],\n",
      "           'y': [2079, 2236, 2079, 2236]},\n",
      "          {'data': '~(-_-)~',\n",
      "           'id': 26,\n",
      "           'x': [321, 321, 769, 769],\n",
      "           'y': [2311, 2458, 2311, 2458]},\n",
      "          {'data': '=_-)',\n",
      "           'id': 27,\n",
      "           'x': [912, 912, 1213, 1213],\n",
      "           'y': [2327, 2458, 2327, 2458]},\n",
      "          {'data': '秘',\n",
      "           'id': 28,\n",
      "           'x': [1468, 1468, 1710, 1710],\n",
      "           'y': [2314, 2468, 2314, 2468]},\n",
      "          {'data': '好',\n",
      "           'id': 29,\n",
      "           'x': [2040, 2040, 2246, 2246],\n",
      "           'y': [2314, 2477, 2314, 2477]},\n",
      "          {'data': '권복전',\n",
      "           'id': 30,\n",
      "           'x': [402, 402, 745, 745],\n",
      "           'y': [2520, 2690, 2520, 2690]},\n",
      "          {'data': '은오할',\n",
      "           'id': 31,\n",
      "           'x': [899, 899, 1255, 1255],\n",
      "           'y': [2540, 2690, 2540, 2690]},\n",
      "          {'data': '곽한초',\n",
      "           'id': 32,\n",
      "           'x': [1423, 1423, 1806, 1806],\n",
      "           'y': [2546, 2703, 2546, 2703]},\n",
      "          {'data': '길어모',\n",
      "           'id': 33,\n",
      "           'x': [1942, 1942, 2266, 2266],\n",
      "           'y': [2566, 2707, 2566, 2707]},\n",
      "          {'data': '원부박',\n",
      "           'id': 34,\n",
      "           'x': [409, 409, 723, 723],\n",
      "           'y': [2742, 2902, 2742, 2902]},\n",
      "          {'data': '소맹추',\n",
      "           'id': 35,\n",
      "           'x': [919, 919, 1197, 1197],\n",
      "           'y': [2742, 2899, 2742, 2899]},\n",
      "          {'data': '양위형',\n",
      "           'id': 36,\n",
      "           'x': [1442, 1442, 1743, 1743],\n",
      "           'y': [2746, 2893, 2746, 2893]},\n",
      "          {'data': '조륙태',\n",
      "           'id': 37,\n",
      "           'x': [1939, 1939, 2263, 2263],\n",
      "           'y': [2759, 2906, 2759, 2906]},\n",
      "          {'data': '백재상',\n",
      "           'id': 38,\n",
      "           'x': [419, 419, 749, 749],\n",
      "           'y': [2958, 3102, 2958, 3102]},\n",
      "          {'data': '강묘항',\n",
      "           'id': 39,\n",
      "           'x': [906, 906, 1223, 1223],\n",
      "           'y': [2959, 3119, 2959, 3119]},\n",
      "          {'data': '서혈침',\n",
      "           'id': 40,\n",
      "           'x': [1439, 1439, 1763, 1763],\n",
      "           'y': [2971, 3121, 2971, 3121]},\n",
      "          {'data': '나신성',\n",
      "           'id': 41,\n",
      "           'x': [1959, 1959, 2322, 2322],\n",
      "           'y': [2984, 3115, 2984, 3115]}]}\n"
     ]
    }
   ],
   "source": [
    "path = 'data/HW_OCR/4.Validation/P.Paper/R.Free/'\n",
    "file = 'IMG_OCR_53_4PR_21045.json'\n",
    "with open(path + file, 'r', encoding='UTF8') as f:\n",
    "    data = json.load(f)\n",
    "pprint.pprint(data)"
   ]
  },
  {
   "cell_type": "markdown",
   "id": "bff331d1",
   "metadata": {},
   "source": [
    "### 결과 데이터 구성 요소\n",
    "\n",
    "- label에서 가져올 정보\n",
    "    - id\n",
    "        - Images > identifier\n",
    "    - image\n",
    "        - Images > identifer + '.' + type\n",
    "        - 두 요소를 .으로 이어 붙어야 한다.\n",
    "    - age\n",
    "        - Images > writer_age\n",
    "    - sex\n",
    "        - Images > writer_sex\n",
    "    - background\n",
    "        - Images > background\n",
    "        - 종이: 0\n",
    "        - 타블렛: 1\n",
    "    - text_origin\n",
    "        - bbox > data\n",
    "    - bbox_origin\n",
    "        - bbox > data, id, x, y 순서로 정렬\n",
    "        - x와 y에 존재하는 숫자는 좌측 하부, 좌측 상부, 우측 하부, 우측 상부 순서로 정렬되어 있음\n",
    "        - x1, y1, x2, y2 순서로 정리 필요\n",
    "            - x2 = x1 + w\n",
    "            - y2 = y1 + h\n",
    "\n",
    "<br>\n",
    "\n",
    "- OCR 모델에서 가져올 정보\n",
    "    - text_90\n",
    "        - 판별 score가 90점이 넘는 글씨의 텍스트 값\n",
    "    - bbox_90\n",
    "        - 판별 score가 90점이 넘는 글씨의 bbox 값\n",
    "    - text_80\n",
    "        - 판별 score가 80점이 넘는 글씨의 텍스트 값\n",
    "    - bbox_80\n",
    "        - 판별 score가 80점이 넘는 글씨의 bbox 값"
   ]
  },
  {
   "cell_type": "code",
   "execution_count": 6,
   "id": "0dcec469",
   "metadata": {
    "ExecuteTime": {
     "end_time": "2024-08-26T22:32:56.802363Z",
     "start_time": "2024-08-26T22:32:56.778622Z"
    }
   },
   "outputs": [
    {
     "data": {
      "text/html": [
       "<div>\n",
       "<style scoped>\n",
       "    .dataframe tbody tr th:only-of-type {\n",
       "        vertical-align: middle;\n",
       "    }\n",
       "\n",
       "    .dataframe tbody tr th {\n",
       "        vertical-align: top;\n",
       "    }\n",
       "\n",
       "    .dataframe thead th {\n",
       "        text-align: right;\n",
       "    }\n",
       "</style>\n",
       "<table border=\"1\" class=\"dataframe\">\n",
       "  <thead>\n",
       "    <tr style=\"text-align: right;\">\n",
       "      <th></th>\n",
       "      <th>id</th>\n",
       "      <th>image</th>\n",
       "      <th>age</th>\n",
       "      <th>sex</th>\n",
       "      <th>background</th>\n",
       "      <th>text_origin</th>\n",
       "      <th>bbox_origin</th>\n",
       "      <th>text_90</th>\n",
       "      <th>bbox_90</th>\n",
       "      <th>text_80</th>\n",
       "      <th>bbox_80</th>\n",
       "    </tr>\n",
       "  </thead>\n",
       "  <tbody>\n",
       "  </tbody>\n",
       "</table>\n",
       "</div>"
      ],
      "text/plain": [
       "Empty DataFrame\n",
       "Columns: [id, image, age, sex, background, text_origin, bbox_origin, text_90, bbox_90, text_80, bbox_80]\n",
       "Index: []"
      ]
     },
     "execution_count": 6,
     "metadata": {},
     "output_type": "execute_result"
    }
   ],
   "source": [
    "# 결과 데이터 컬럼 및 df 생성\n",
    "\n",
    "col = ['id', 'image', 'age', 'sex', 'background', 'text_origin', 'bbox_origin', 'text_90', 'bbox_90', 'text_80', 'bbox_80']\n",
    "\n",
    "ocr_df = pd.DataFrame(columns = col)\n",
    "ocr_df"
   ]
  },
  {
   "cell_type": "code",
   "execution_count": 7,
   "id": "3ccf5aab",
   "metadata": {
    "ExecuteTime": {
     "end_time": "2024-08-26T22:32:56.933568Z",
     "start_time": "2024-08-26T22:32:56.802363Z"
    }
   },
   "outputs": [
    {
     "name": "stdout",
     "output_type": "stream",
     "text": [
      "40324\n"
     ]
    }
   ],
   "source": [
    "# JSON 파일 로드 함수\n",
    "def load_json(json_path):\n",
    "    try:\n",
    "        encoder = 'utf-8'\n",
    "        with open(json_path, 'r', encoding = encoder) as f:\n",
    "            data = json.load(f)\n",
    "    except:\n",
    "        try:\n",
    "            encoder = 'cp949'\n",
    "            with open(json_path, 'r', encoding = encoder) as f:\n",
    "                data = json.load(f)\n",
    "            \n",
    "        except:\n",
    "            encoder = 'euc-kr'\n",
    "            with open(json_path, 'r', encoding = encoder) as f:\n",
    "                data = json.load(f)\n",
    "    \n",
    "    return data\n",
    "\n",
    "# JSON 파일 목록 정리\n",
    "basic_path = 'data/HW_OCR/4.Validation/'\n",
    "backgrounds = ['P.Paper/', 'T.Tablet/']\n",
    "content = 'R.Free/'\n",
    "json_files_list = []\n",
    "\n",
    "for background in backgrounds:\n",
    "    tmp = []\n",
    "    path = basic_path + background + content\n",
    "    tmp = list(map(lambda x: path + str(x), filter(lambda x: x.endswith('.json'), os.listdir(path))))\n",
    "    json_files_list += tmp\n",
    "    \n",
    "print(len(json_files_list))\n"
   ]
  },
  {
   "cell_type": "code",
   "execution_count": 8,
   "id": "7bb63e5c",
   "metadata": {
    "ExecuteTime": {
     "end_time": "2024-08-26T22:32:56.953009Z",
     "start_time": "2024-08-26T22:32:56.937562Z"
    }
   },
   "outputs": [],
   "source": [
    "def json2ocrdf(json_files_list):\n",
    "    for i, json_file in enumerate(json_files_list):\n",
    "        if i % 100 == 0:\n",
    "            print(i, end = ' ')\n",
    "        # JSON 파일 경로\n",
    "        json_path = json_file\n",
    "        data = load_json(json_path)\n",
    "\n",
    "        image_path = 'data/' + data['Dataset']['src_path'] + data['Images']['identifier'] + '.' + data['Images']['type']\n",
    "#         print(image_path)\n",
    "\n",
    "        # 각 단어의 바운딩 박스와 텍스트 정보\n",
    "        texts_list = []\n",
    "        bounding_box_list = []\n",
    "\n",
    "        # 전처리된 이미지 리스트\n",
    "        for word in data['bbox']:\n",
    "            text = word['data']\n",
    "            texts_list.append(text)\n",
    "#             print(text)\n",
    "            # x, y, x+w, y+h\n",
    "            bounding_box = [word['x'][0], word['y'][0], word['x'][2], word['y'][1]]\n",
    "            bounding_box_list.append(bounding_box)\n",
    "#             print(bounding_box)\n",
    "\n",
    "        ocr_id = data['Images']['identifier']\n",
    "        ocr_image = image_path\n",
    "        ocr_age = data['Images']['writer_age']\n",
    "        ocr_sex = data['Images']['writer_sex']\n",
    "        ocr_background = data['Images']['background']\n",
    "        ocr_text_origin = texts_list\n",
    "        ocr_bbox_origin = bounding_box_list\n",
    "        ocr_text_90 = None\n",
    "        ocr_bbox_90 = None\n",
    "        ocr_text_80 = None\n",
    "        ocr_bbox_80 = None\n",
    "\n",
    "        ocr_df.loc[len(ocr_df)] = [ocr_id, ocr_image, ocr_age, ocr_sex, ocr_background, ocr_text_origin, ocr_bbox_origin,\n",
    "                                   None, None, None, None]\n",
    "        "
   ]
  },
  {
   "cell_type": "code",
   "execution_count": null,
   "id": "4d8adadd",
   "metadata": {
    "ExecuteTime": {
     "start_time": "2024-08-26T22:32:49.867Z"
    },
    "scrolled": true
   },
   "outputs": [
    {
     "name": "stdout",
     "output_type": "stream",
     "text": [
      "0 100 200 "
     ]
    }
   ],
   "source": [
    "json2ocrdf(json_files_list[0:1000])"
   ]
  },
  {
   "cell_type": "code",
   "execution_count": null,
   "id": "4f9421c6",
   "metadata": {
    "ExecuteTime": {
     "start_time": "2024-08-26T22:32:49.868Z"
    }
   },
   "outputs": [],
   "source": [
    "ocr_df.to_csv('result_df_sample.csv', index = False)"
   ]
  },
  {
   "cell_type": "code",
   "execution_count": null,
   "id": "f156520b",
   "metadata": {},
   "outputs": [],
   "source": [
    "ocr_df"
   ]
  },
  {
   "cell_type": "code",
   "execution_count": null,
   "id": "319f26f2",
   "metadata": {
    "ExecuteTime": {
     "end_time": "2024-08-26T22:27:52.446660Z",
     "start_time": "2024-08-26T22:17:53.685238Z"
    },
    "scrolled": true
   },
   "outputs": [],
   "source": [
    "json2ocrdf(json_files_list[1000:10000])"
   ]
  },
  {
   "cell_type": "code",
   "execution_count": null,
   "id": "b52b1142",
   "metadata": {
    "ExecuteTime": {
     "end_time": "2024-08-26T21:57:03.753486Z",
     "start_time": "2024-08-26T21:57:03.753486Z"
    }
   },
   "outputs": [],
   "source": [
    "json2ocrdf(json_files_list[10000:20000])"
   ]
  },
  {
   "cell_type": "code",
   "execution_count": null,
   "id": "d2d32b28",
   "metadata": {
    "ExecuteTime": {
     "end_time": "2024-08-26T21:57:03.758476Z",
     "start_time": "2024-08-26T21:57:03.758476Z"
    }
   },
   "outputs": [],
   "source": [
    "json2ocrdf(json_files_list[20000:30000])"
   ]
  },
  {
   "cell_type": "code",
   "execution_count": null,
   "id": "e86eea43",
   "metadata": {
    "ExecuteTime": {
     "end_time": "2024-08-26T21:57:03.758476Z",
     "start_time": "2024-08-26T21:57:03.758476Z"
    }
   },
   "outputs": [],
   "source": [
    "json2ocrdf(json_files_list[30000:])"
   ]
  },
  {
   "cell_type": "code",
   "execution_count": null,
   "id": "6a811e98",
   "metadata": {},
   "outputs": [],
   "source": [
    "result_df.to_csv('result_df.csv', index = False)"
   ]
  },
  {
   "cell_type": "markdown",
   "id": "3fe7ea35",
   "metadata": {},
   "source": [
    "# OCR_paddle"
   ]
  },
  {
   "cell_type": "markdown",
   "id": "6f3df78d",
   "metadata": {},
   "source": [
    "## OCR 모델 적용하여 "
   ]
  },
  {
   "cell_type": "code",
   "execution_count": null,
   "id": "ec4e6fcb",
   "metadata": {
    "ExecuteTime": {
     "end_time": "2024-08-26T21:57:26.396456Z",
     "start_time": "2024-08-26T21:57:23.112771Z"
    },
    "scrolled": true
   },
   "outputs": [],
   "source": [
    "ocr_model = PaddleOCR(lang = 'korean')\n",
    "\n",
    "img_path = '2ali6i.jpg'\n",
    "result = ocr_model.ocr(img_path, cls = False)"
   ]
  },
  {
   "cell_type": "code",
   "execution_count": null,
   "id": "04c5d9b4",
   "metadata": {
    "ExecuteTime": {
     "end_time": "2024-08-26T21:57:26.416956Z",
     "start_time": "2024-08-26T21:57:26.399273Z"
    }
   },
   "outputs": [],
   "source": [
    "res = result[0]\n",
    "print(type(res))\n",
    "boxes = [res[i][0] for i in range(len(result[0]))] # \n",
    "texts = [res[i][1][0] for i in range(len(result[0]))]\n",
    "scores = [float(res[i][1][1]) for i in range(len(result[0]))]\n",
    "\n",
    "ocr_text_90 = []\n",
    "ocr_bbox_90 = []\n",
    "ocr_text_80 = []\n",
    "ocr_bbox_80 = []\n",
    "\n",
    "# bbox가 직각사각형이 아닐 수도 있다.\n",
    "# 관련된 부분 전처리 필요\n",
    "\n",
    "for t, s, b in zip(texts, scores, boxes):\n",
    "    print(t, s, b)\n",
    "    if s >= 0.8:\n",
    "        ocr_text_80.append(t)\n",
    "        ocr_bbox_80.append(b)\n",
    "        \n",
    "        if s >= 0.9:\n",
    "            ocr_text_90.append(t)\n",
    "            ocr_bbox_90.append(b)\n",
    "\n",
    "print()\n",
    "print(ocr_text_90, ocr_bbox_90)\n",
    "print()\n",
    "print(ocr_text_80, ocr_bbox_90)"
   ]
  },
  {
   "cell_type": "code",
   "execution_count": null,
   "id": "54e19b6e",
   "metadata": {
    "ExecuteTime": {
     "end_time": "2024-08-26T21:57:26.436556Z",
     "start_time": "2024-08-26T21:57:26.419949Z"
    }
   },
   "outputs": [],
   "source": [
    "for t, s, b in zip(texts, scores, boxes):\n",
    "    print(b)"
   ]
  },
  {
   "cell_type": "code",
   "execution_count": null,
   "id": "2bd9288a",
   "metadata": {
    "ExecuteTime": {
     "end_time": "2024-08-26T21:57:26.535181Z",
     "start_time": "2024-08-26T21:57:26.520017Z"
    }
   },
   "outputs": [],
   "source": [
    "ocr_bbox_80[0]"
   ]
  },
  {
   "cell_type": "markdown",
   "id": "22aae175",
   "metadata": {},
   "source": [
    "### 전처리 작업\n",
    "- 손글씨만 활용해야 함\n",
    "- 문서내에 인쇄된 글씨 부분은 제외해야 함\n",
    "- 반복적으로 나오는 부분을 데이터 확인해 미리 만들어 둠\n",
    "- 목록에서 제거하기로 함"
   ]
  },
  {
   "cell_type": "code",
   "execution_count": null,
   "id": "9f8f087a",
   "metadata": {
    "ExecuteTime": {
     "end_time": "2024-08-26T21:57:30.446606Z",
     "start_time": "2024-08-26T21:57:28.658778Z"
    },
    "scrolled": true
   },
   "outputs": [],
   "source": [
    "# # predict > texts\n",
    "# # json > texts_list\n",
    "\n",
    "# print('< 예측 | 실제 > ')\n",
    "# for predict, real in zip(texts, texts_list):\n",
    "#     print('{} | {}'.format(predict, real))"
   ]
  },
  {
   "cell_type": "code",
   "execution_count": null,
   "id": "dc72bf1e",
   "metadata": {
    "ExecuteTime": {
     "end_time": "2024-08-26T21:57:57.294443Z",
     "start_time": "2024-08-26T21:57:56.056417Z"
    },
    "scrolled": false
   },
   "outputs": [],
   "source": [
    "#for res in result:\n",
    "print(boxes[0])\n",
    "print(texts[0])\n",
    "print(scores[0])#, Text: {res[1]}\n",
    "\n",
    "# Specifying font path for draw_ocr method\n",
    "font_path = 'C:/Users/UserK/ds_study/DL_proj/PaddleOCR-main/doc/fonts/korean.TTF'\n",
    "\n",
    "img_path = 'C:/Users/UserK/ds_study/DL_proj/2ali6i.jpg'\n",
    "\n",
    "# imports image\n",
    "img = cv2.imread(img_path) \n",
    "\n",
    "# reorders the color channelsa\n",
    "img = cv2.cvtColor(img, cv2.COLOR_BGR2RGB) \n",
    "\n",
    "# Visualize our image and detections\n",
    "# resizing display area\n",
    "plt.figure(figsize = (65, 65))\n",
    "\n",
    "# draw annotations on image\n",
    "annotated = draw_ocr(img, boxes, texts, scores, font_path = font_path) \n",
    "\n",
    "# show the image using matplotlib\n",
    "plt.imshow(annotated)"
   ]
  },
  {
   "cell_type": "code",
   "execution_count": null,
   "id": "cb0a3ff9",
   "metadata": {},
   "outputs": [],
   "source": []
  }
 ],
 "metadata": {
  "kernelspec": {
   "display_name": "ds_study",
   "language": "python",
   "name": "ds_study"
  },
  "language_info": {
   "codemirror_mode": {
    "name": "ipython",
    "version": 3
   },
   "file_extension": ".py",
   "mimetype": "text/x-python",
   "name": "python",
   "nbconvert_exporter": "python",
   "pygments_lexer": "ipython3",
   "version": "3.8.19"
  },
  "toc": {
   "base_numbering": 1,
   "nav_menu": {},
   "number_sections": true,
   "sideBar": true,
   "skip_h1_title": false,
   "title_cell": "Table of Contents",
   "title_sidebar": "Contents",
   "toc_cell": false,
   "toc_position": {},
   "toc_section_display": true,
   "toc_window_display": false
  }
 },
 "nbformat": 4,
 "nbformat_minor": 5
}
