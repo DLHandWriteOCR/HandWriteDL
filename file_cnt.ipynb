{
 "cells": [
  {
   "cell_type": "markdown",
   "id": "cfb423f1",
   "metadata": {},
   "source": [
    "# 파일 갯수 확인하기"
   ]
  },
  {
   "cell_type": "code",
   "execution_count": 1,
   "id": "ebaa3f2d",
   "metadata": {
    "ExecuteTime": {
     "end_time": "2024-08-28T10:43:06.520577Z",
     "start_time": "2024-08-28T10:43:06.508543Z"
    }
   },
   "outputs": [],
   "source": [
    "import os\n",
    "import json"
   ]
  },
  {
   "cell_type": "code",
   "execution_count": 2,
   "id": "89bba18b",
   "metadata": {
    "ExecuteTime": {
     "end_time": "2024-08-28T10:43:12.812704Z",
     "start_time": "2024-08-28T10:43:07.077487Z"
    }
   },
   "outputs": [
    {
     "name": "stdout",
     "output_type": "stream",
     "text": [
      "data/HW_OCR/4.Validation/P.Paper/R.Free/.json: 35535개\n",
      "data/HW_OCR/4.Validation/P.Paper/R.Free/.png: 35535개\n",
      "\n",
      "data/HW_OCR/4.Validation/P.Paper/O.Form/.json: 43170개\n",
      "data/HW_OCR/4.Validation/P.Paper/O.Form/.png: 43170개\n",
      "\n",
      "data/HW_OCR/4.Validation/T.Tablet/R.Free/.json: 4789개\n",
      "data/HW_OCR/4.Validation/T.Tablet/R.Free/.png: 4789개\n",
      "\n",
      "data/HW_OCR/4.Validation/T.Tablet/O.Form/.json: 12525개\n",
      "data/HW_OCR/4.Validation/T.Tablet/O.Form/.png: 12525개\n",
      "\n"
     ]
    }
   ],
   "source": [
    "# JSON 파일 목록 정리\n",
    "basic_path = 'data/HW_OCR/4.Validation/'\n",
    "backgrounds = ['P.Paper/', 'T.Tablet/']\n",
    "contents = ['R.Free/', 'O.Form/']\n",
    "json_files_list = []\n",
    "png_files_list = []\n",
    "\n",
    "for background in backgrounds:\n",
    "    for content in contents:\n",
    "        tmp = []\n",
    "        path = basic_path + background + content\n",
    "        tmp = list(map(lambda x: path + str(x), filter(lambda x: x.endswith('.json'), os.listdir(path))))\n",
    "        json_files_list.append(tmp)\n",
    "        print('{}.json: {}개'.format(path, len(tmp)))\n",
    "        \n",
    "        tmp = list(map(lambda x: path + str(x), filter(lambda x: x.endswith('.png'), os.listdir(path))))\n",
    "        png_files_list.append(tmp)\n",
    "        print('{}.png: {}개'.format(path, len(tmp)))\n",
    "        print()"
   ]
  },
  {
   "cell_type": "code",
   "execution_count": 7,
   "id": "82126a3c",
   "metadata": {
    "ExecuteTime": {
     "end_time": "2024-08-28T10:47:08.336043Z",
     "start_time": "2024-08-28T10:47:08.327577Z"
    }
   },
   "outputs": [
    {
     "name": "stdout",
     "output_type": "stream",
     "text": [
      "갖고 있는 json 데이터 목록\n",
      "Paper: 78705, Table: 17314, total: 96019\n",
      "데이터 사이트와 내가 갖고 있는 데이터 목록 갯수와의 차이\n",
      "Paper: 8500, Table: 2000, total: 10500\n",
      "\n",
      "갖고 있는 png 데이터 목록\n",
      "Paper: 78705, Table: 17314, total: 96019\n",
      "데이터 사이트와 내가 갖고 있는 데이터 목록 갯수와의 차이\n",
      "Paper: 8500, Table: 2000, total: 10500\n"
     ]
    }
   ],
   "source": [
    "cnt_P_AIHUB = 87205\n",
    "cnt_T_AIHUB = 19314\n",
    "cnt_AIHUB = cnt_P_AIHUB + cnt_T_AIHUB\n",
    "\n",
    "\n",
    "P1 = len(json_files_list[0]) + len(json_files_list[1])\n",
    "T1 = len(json_files_list[2]) + len(json_files_list[3])\n",
    "print('갖고 있는 json 데이터 목록')\n",
    "print('Paper: {}, Table: {}, total: {}'.format(P1, T1, P1+T1))\n",
    "print('데이터 사이트와 내가 갖고 있는 데이터 목록 갯수와의 차이')\n",
    "print('Paper: {}, Table: {}, total: {}'.format(cnt_P_AIHUB - P1, cnt_T_AIHUB - T1, cnt_AIHUB - (P1+T1)))\n",
    "\n",
    "print()\n",
    "\n",
    "P2 = len(png_files_list[0]) + len(png_files_list[1])\n",
    "T2 = len(png_files_list[2]) + len(png_files_list[3])\n",
    "print('갖고 있는 png 데이터 목록')\n",
    "print('Paper: {}, Table: {}, total: {}'.format(P2, T2, P2+T2))\n",
    "print('데이터 사이트와 내가 갖고 있는 데이터 목록 갯수와의 차이')\n",
    "print('Paper: {}, Table: {}, total: {}'.format(cnt_P_AIHUB - P2, cnt_T_AIHUB - T2, cnt_AIHUB - (P2+T2)))"
   ]
  },
  {
   "cell_type": "code",
   "execution_count": null,
   "id": "a85e11d3",
   "metadata": {},
   "outputs": [],
   "source": []
  }
 ],
 "metadata": {
  "kernelspec": {
   "display_name": "ds_study",
   "language": "python",
   "name": "ds_study"
  },
  "language_info": {
   "codemirror_mode": {
    "name": "ipython",
    "version": 3
   },
   "file_extension": ".py",
   "mimetype": "text/x-python",
   "name": "python",
   "nbconvert_exporter": "python",
   "pygments_lexer": "ipython3",
   "version": "3.8.19"
  },
  "toc": {
   "base_numbering": 1,
   "nav_menu": {},
   "number_sections": true,
   "sideBar": true,
   "skip_h1_title": false,
   "title_cell": "Table of Contents",
   "title_sidebar": "Contents",
   "toc_cell": false,
   "toc_position": {},
   "toc_section_display": true,
   "toc_window_display": false
  }
 },
 "nbformat": 4,
 "nbformat_minor": 5
}
