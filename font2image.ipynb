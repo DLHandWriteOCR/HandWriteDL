{
 "cells": [
  {
   "cell_type": "markdown",
   "id": "3ee576c8",
   "metadata": {},
   "source": [
    "# 폰트 이미지 데이터 만들기"
   ]
  },
  {
   "cell_type": "markdown",
   "id": "5560d431",
   "metadata": {},
   "source": [
    "## 라이브러리"
   ]
  },
  {
   "cell_type": "code",
   "execution_count": 1,
   "id": "0a8d3e05",
   "metadata": {
    "ExecuteTime": {
     "end_time": "2024-08-29T18:37:27.867667Z",
     "start_time": "2024-08-29T18:37:27.437227Z"
    }
   },
   "outputs": [],
   "source": [
    "import pandas as pd\n",
    "import numpy as np\n",
    "import os\n",
    "from PIL import Image, ImageDraw, ImageFont"
   ]
  },
  {
   "cell_type": "markdown",
   "id": "84f1fbb1",
   "metadata": {},
   "source": [
    "## 데이터 목록이 제대로 있는지 확인하는 코드"
   ]
  },
  {
   "cell_type": "code",
   "execution_count": 2,
   "id": "8e45ddca",
   "metadata": {
    "ExecuteTime": {
     "end_time": "2024-08-29T18:37:27.883608Z",
     "start_time": "2024-08-29T18:37:27.869704Z"
    }
   },
   "outputs": [
    {
     "name": "stdout",
     "output_type": "stream",
     "text": [
      "font 갯수: 7\n",
      "폰트 경로 예시: data/font/HakgyoansimGaeulsopungL.ttf\n",
      "폰트 이름 예시: HakgyoansimGaeulsopungL.ttf\n"
     ]
    }
   ],
   "source": [
    "# font 파일 목록 정리\n",
    "path = 'data/font/'\n",
    "fonts_path_list = list(map(lambda x: path + str(x), filter(lambda x: x.endswith('.ttf'), os.listdir(path))))\n",
    "fonts_list = list(map(lambda x:str(x), filter(lambda x: x.endswith('.ttf'), os.listdir(path))))\n",
    "\n",
    "if len(fonts_path_list) == len(fonts_list):\n",
    "    print('font 갯수: {}'.format(len(fonts_list)))\n",
    "    print('폰트 경로 예시: {}'.format(fonts_path_list[0]))\n",
    "    print('폰트 이름 예시: {}'.format(fonts_list[0]))"
   ]
  },
  {
   "cell_type": "markdown",
   "id": "dd0d7e30",
   "metadata": {},
   "source": [
    "## text 입력값 불러오기"
   ]
  },
  {
   "cell_type": "code",
   "execution_count": 3,
   "id": "746fbbce",
   "metadata": {
    "ExecuteTime": {
     "end_time": "2024-08-29T18:37:28.421163Z",
     "start_time": "2024-08-29T18:37:27.885612Z"
    },
    "scrolled": true
   },
   "outputs": [
    {
     "data": {
      "text/html": [
       "<div>\n",
       "<style scoped>\n",
       "    .dataframe tbody tr th:only-of-type {\n",
       "        vertical-align: middle;\n",
       "    }\n",
       "\n",
       "    .dataframe tbody tr th {\n",
       "        vertical-align: top;\n",
       "    }\n",
       "\n",
       "    .dataframe thead th {\n",
       "        text-align: right;\n",
       "    }\n",
       "</style>\n",
       "<table border=\"1\" class=\"dataframe\">\n",
       "  <thead>\n",
       "    <tr style=\"text-align: right;\">\n",
       "      <th></th>\n",
       "      <th>id</th>\n",
       "      <th>image</th>\n",
       "      <th>age</th>\n",
       "      <th>sex</th>\n",
       "      <th>background</th>\n",
       "      <th>content</th>\n",
       "      <th>text_origin</th>\n",
       "      <th>bbox_origin</th>\n",
       "      <th>text_ocr</th>\n",
       "      <th>bbox_ocr</th>\n",
       "      <th>score_ocr</th>\n",
       "      <th>text</th>\n",
       "      <th>bbox</th>\n",
       "      <th>score</th>\n",
       "    </tr>\n",
       "  </thead>\n",
       "  <tbody>\n",
       "    <tr>\n",
       "      <th>0</th>\n",
       "      <td>IMG_OCR_53_4PR_04358</td>\n",
       "      <td>data/HW_OCR/4.Validation/P.Paper/R.Free/IMG_OC...</td>\n",
       "      <td>37</td>\n",
       "      <td>0</td>\n",
       "      <td>0</td>\n",
       "      <td>1</td>\n",
       "      <td>[004358, 경기도, 대전광역시, 충청북도, 울산광역시, 정읍시, 군위군, 부산...</td>\n",
       "      <td>[[[1941, 138], [2190, 138], [2190, 223], [1941...</td>\n",
       "      <td>[004359, No, 손글씨OCR, 자유필사, DataSheet, -, O00G ...</td>\n",
       "      <td>[[[1946.0, 156.0], [2188.0, 156.0], [2188.0, 2...</td>\n",
       "      <td>[0.9458165168762207, 0.9999962449073792, 0.998...</td>\n",
       "      <td>[갑동, 핑프, 천차스, 안방사]</td>\n",
       "      <td>[[[1448.0, 1663.0], [1604.0, 1679.0], [1594.0,...</td>\n",
       "      <td>[0.8569854497909546, 0.6565369963645935, 0.910...</td>\n",
       "    </tr>\n",
       "    <tr>\n",
       "      <th>1</th>\n",
       "      <td>IMG_OCR_53_4PR_04359</td>\n",
       "      <td>data/HW_OCR/4.Validation/P.Paper/R.Free/IMG_OC...</td>\n",
       "      <td>37</td>\n",
       "      <td>0</td>\n",
       "      <td>0</td>\n",
       "      <td>1</td>\n",
       "      <td>[004359, 대전광역시, 서울특별시, 제주특별자치도, 경상남도, 미추홀구, 김포...</td>\n",
       "      <td>[[[1907, 145], [2188, 145], [2188, 230], [1907...</td>\n",
       "      <td>[No, 0042&lt;9, 손글씨OCR, 자유필사, DataSheet, 002, G05...</td>\n",
       "      <td>[[[1768.0, 167.0], [1835.0, 167.0], [1835.0, 2...</td>\n",
       "      <td>[0.9999967217445374, 0.7467948794364929, 0.999...</td>\n",
       "      <td>[원흥동, PIP, EMS]</td>\n",
       "      <td>[[[1465.0, 1464.0], [1636.0, 1464.0], [1636.0,...</td>\n",
       "      <td>[0.7990460395812988, 0.7849056720733643, 0.968...</td>\n",
       "    </tr>\n",
       "    <tr>\n",
       "      <th>2</th>\n",
       "      <td>IMG_OCR_53_4PR_04360</td>\n",
       "      <td>data/HW_OCR/4.Validation/P.Paper/R.Free/IMG_OC...</td>\n",
       "      <td>37</td>\n",
       "      <td>0</td>\n",
       "      <td>0</td>\n",
       "      <td>1</td>\n",
       "      <td>[004360, 경상남도, 세종특별자치시, 충청남도, 부산광역시, 예산군, 달서구,...</td>\n",
       "      <td>[[[1951, 144], [2216, 144], [2216, 226], [1951...</td>\n",
       "      <td>[No, 00 4260, 손글씨OCR, 자유필사, DataSheet, 0000056...</td>\n",
       "      <td>[[[1771.0, 167.0], [1838.0, 167.0], [1838.0, 2...</td>\n",
       "      <td>[0.9532381892204285, 0.6972773671150208, 0.996...</td>\n",
       "      <td>[창천동, 비당, 모사입]</td>\n",
       "      <td>[[[388.0, 1648.0], [601.0, 1668.0], [591.0, 17...</td>\n",
       "      <td>[0.7537552714347839, 0.9912821054458618, 0.823...</td>\n",
       "    </tr>\n",
       "    <tr>\n",
       "      <th>3</th>\n",
       "      <td>IMG_OCR_53_4PR_04361</td>\n",
       "      <td>data/HW_OCR/4.Validation/P.Paper/R.Free/IMG_OC...</td>\n",
       "      <td>37</td>\n",
       "      <td>0</td>\n",
       "      <td>0</td>\n",
       "      <td>1</td>\n",
       "      <td>[004361, 서울특별시, 광주광역시, 부산광역시, 세종특별자치시, 양평군, 관악...</td>\n",
       "      <td>[[[1894, 140], [2131, 140], [2131, 218], [1894...</td>\n",
       "      <td>[No, 00436, 손글씨OCR, 자유필사, DataSheet, -, O008 0...</td>\n",
       "      <td>[[[1754.0, 149.0], [1844.0, 162.0], [1836.0, 2...</td>\n",
       "      <td>[0.9999877214431763, 0.9439678192138672, 0.998...</td>\n",
       "      <td>[스세권, MAC]</td>\n",
       "      <td>[[[1991.0, 1896.0], [2202.0, 1896.0], [2202.0,...</td>\n",
       "      <td>[0.8021950721740723, 0.937255859375]</td>\n",
       "    </tr>\n",
       "    <tr>\n",
       "      <th>4</th>\n",
       "      <td>IMG_OCR_53_4PR_04362</td>\n",
       "      <td>data/HW_OCR/4.Validation/P.Paper/R.Free/IMG_OC...</td>\n",
       "      <td>37</td>\n",
       "      <td>0</td>\n",
       "      <td>0</td>\n",
       "      <td>1</td>\n",
       "      <td>[004362, 광주광역시, 충청남도, 대구광역시, 울산광역시, 고양시, 일산동구,...</td>\n",
       "      <td>[[[1903, 143], [2171, 143], [2171, 229], [1903...</td>\n",
       "      <td>[004262, No, 손글씨OCR, 자유필사, DataSheet, O02G, 00...</td>\n",
       "      <td>[[[1912.0, 146.0], [2169.0, 176.0], [2162.0, 2...</td>\n",
       "      <td>[0.9320352673530579, 0.9999960660934448, 0.997...</td>\n",
       "      <td>[고양시, LTE]</td>\n",
       "      <td>[[[338.0, 1231.0], [505.0, 1231.0], [505.0, 13...</td>\n",
       "      <td>[0.9846711158752441, 0.850888729095459]</td>\n",
       "    </tr>\n",
       "  </tbody>\n",
       "</table>\n",
       "</div>"
      ],
      "text/plain": [
       "                     id                                              image  \\\n",
       "0  IMG_OCR_53_4PR_04358  data/HW_OCR/4.Validation/P.Paper/R.Free/IMG_OC...   \n",
       "1  IMG_OCR_53_4PR_04359  data/HW_OCR/4.Validation/P.Paper/R.Free/IMG_OC...   \n",
       "2  IMG_OCR_53_4PR_04360  data/HW_OCR/4.Validation/P.Paper/R.Free/IMG_OC...   \n",
       "3  IMG_OCR_53_4PR_04361  data/HW_OCR/4.Validation/P.Paper/R.Free/IMG_OC...   \n",
       "4  IMG_OCR_53_4PR_04362  data/HW_OCR/4.Validation/P.Paper/R.Free/IMG_OC...   \n",
       "\n",
       "   age  sex  background  content  \\\n",
       "0   37    0           0        1   \n",
       "1   37    0           0        1   \n",
       "2   37    0           0        1   \n",
       "3   37    0           0        1   \n",
       "4   37    0           0        1   \n",
       "\n",
       "                                         text_origin  \\\n",
       "0  [004358, 경기도, 대전광역시, 충청북도, 울산광역시, 정읍시, 군위군, 부산...   \n",
       "1  [004359, 대전광역시, 서울특별시, 제주특별자치도, 경상남도, 미추홀구, 김포...   \n",
       "2  [004360, 경상남도, 세종특별자치시, 충청남도, 부산광역시, 예산군, 달서구,...   \n",
       "3  [004361, 서울특별시, 광주광역시, 부산광역시, 세종특별자치시, 양평군, 관악...   \n",
       "4  [004362, 광주광역시, 충청남도, 대구광역시, 울산광역시, 고양시, 일산동구,...   \n",
       "\n",
       "                                         bbox_origin  \\\n",
       "0  [[[1941, 138], [2190, 138], [2190, 223], [1941...   \n",
       "1  [[[1907, 145], [2188, 145], [2188, 230], [1907...   \n",
       "2  [[[1951, 144], [2216, 144], [2216, 226], [1951...   \n",
       "3  [[[1894, 140], [2131, 140], [2131, 218], [1894...   \n",
       "4  [[[1903, 143], [2171, 143], [2171, 229], [1903...   \n",
       "\n",
       "                                            text_ocr  \\\n",
       "0  [004359, No, 손글씨OCR, 자유필사, DataSheet, -, O00G ...   \n",
       "1  [No, 0042<9, 손글씨OCR, 자유필사, DataSheet, 002, G05...   \n",
       "2  [No, 00 4260, 손글씨OCR, 자유필사, DataSheet, 0000056...   \n",
       "3  [No, 00436, 손글씨OCR, 자유필사, DataSheet, -, O008 0...   \n",
       "4  [004262, No, 손글씨OCR, 자유필사, DataSheet, O02G, 00...   \n",
       "\n",
       "                                            bbox_ocr  \\\n",
       "0  [[[1946.0, 156.0], [2188.0, 156.0], [2188.0, 2...   \n",
       "1  [[[1768.0, 167.0], [1835.0, 167.0], [1835.0, 2...   \n",
       "2  [[[1771.0, 167.0], [1838.0, 167.0], [1838.0, 2...   \n",
       "3  [[[1754.0, 149.0], [1844.0, 162.0], [1836.0, 2...   \n",
       "4  [[[1912.0, 146.0], [2169.0, 176.0], [2162.0, 2...   \n",
       "\n",
       "                                           score_ocr                text  \\\n",
       "0  [0.9458165168762207, 0.9999962449073792, 0.998...  [갑동, 핑프, 천차스, 안방사]   \n",
       "1  [0.9999967217445374, 0.7467948794364929, 0.999...     [원흥동, PIP, EMS]   \n",
       "2  [0.9532381892204285, 0.6972773671150208, 0.996...      [창천동, 비당, 모사입]   \n",
       "3  [0.9999877214431763, 0.9439678192138672, 0.998...          [스세권, MAC]   \n",
       "4  [0.9320352673530579, 0.9999960660934448, 0.997...          [고양시, LTE]   \n",
       "\n",
       "                                                bbox  \\\n",
       "0  [[[1448.0, 1663.0], [1604.0, 1679.0], [1594.0,...   \n",
       "1  [[[1465.0, 1464.0], [1636.0, 1464.0], [1636.0,...   \n",
       "2  [[[388.0, 1648.0], [601.0, 1668.0], [591.0, 17...   \n",
       "3  [[[1991.0, 1896.0], [2202.0, 1896.0], [2202.0,...   \n",
       "4  [[[338.0, 1231.0], [505.0, 1231.0], [505.0, 13...   \n",
       "\n",
       "                                               score  \n",
       "0  [0.8569854497909546, 0.6565369963645935, 0.910...  \n",
       "1  [0.7990460395812988, 0.7849056720733643, 0.968...  \n",
       "2  [0.7537552714347839, 0.9912821054458618, 0.823...  \n",
       "3               [0.8021950721740723, 0.937255859375]  \n",
       "4            [0.9846711158752441, 0.850888729095459]  "
      ]
     },
     "execution_count": 3,
     "metadata": {},
     "output_type": "execute_result"
    }
   ],
   "source": [
    "df = pd.read_pickle('df_json+ocr_sample100.pkl')\n",
    "df.head()"
   ]
  },
  {
   "cell_type": "code",
   "execution_count": 4,
   "id": "bee6a3c9",
   "metadata": {
    "ExecuteTime": {
     "end_time": "2024-08-29T18:37:28.436784Z",
     "start_time": "2024-08-29T18:37:28.421163Z"
    }
   },
   "outputs": [
    {
     "data": {
      "text/html": [
       "<div>\n",
       "<style scoped>\n",
       "    .dataframe tbody tr th:only-of-type {\n",
       "        vertical-align: middle;\n",
       "    }\n",
       "\n",
       "    .dataframe tbody tr th {\n",
       "        vertical-align: top;\n",
       "    }\n",
       "\n",
       "    .dataframe thead th {\n",
       "        text-align: right;\n",
       "    }\n",
       "</style>\n",
       "<table border=\"1\" class=\"dataframe\">\n",
       "  <thead>\n",
       "    <tr style=\"text-align: right;\">\n",
       "      <th></th>\n",
       "      <th>id</th>\n",
       "      <th>text</th>\n",
       "    </tr>\n",
       "  </thead>\n",
       "  <tbody>\n",
       "    <tr>\n",
       "      <th>0</th>\n",
       "      <td>IMG_OCR_53_4PR_04358</td>\n",
       "      <td>[갑동, 핑프, 천차스, 안방사]</td>\n",
       "    </tr>\n",
       "    <tr>\n",
       "      <th>1</th>\n",
       "      <td>IMG_OCR_53_4PR_04359</td>\n",
       "      <td>[원흥동, PIP, EMS]</td>\n",
       "    </tr>\n",
       "    <tr>\n",
       "      <th>2</th>\n",
       "      <td>IMG_OCR_53_4PR_04360</td>\n",
       "      <td>[창천동, 비당, 모사입]</td>\n",
       "    </tr>\n",
       "    <tr>\n",
       "      <th>3</th>\n",
       "      <td>IMG_OCR_53_4PR_04361</td>\n",
       "      <td>[스세권, MAC]</td>\n",
       "    </tr>\n",
       "    <tr>\n",
       "      <th>4</th>\n",
       "      <td>IMG_OCR_53_4PR_04362</td>\n",
       "      <td>[고양시, LTE]</td>\n",
       "    </tr>\n",
       "    <tr>\n",
       "      <th>...</th>\n",
       "      <td>...</td>\n",
       "      <td>...</td>\n",
       "    </tr>\n",
       "    <tr>\n",
       "      <th>95</th>\n",
       "      <td>IMG_OCR_53_4PR_04456</td>\n",
       "      <td>[004456, 양양군, 우성면, 목성동, 먹방, MMORPG, 양사주, 백왈취, ...</td>\n",
       "    </tr>\n",
       "    <tr>\n",
       "      <th>96</th>\n",
       "      <td>IMG_OCR_53_4PR_04457</td>\n",
       "      <td>[웅남동, HDD, 심주험, 명초항]</td>\n",
       "    </tr>\n",
       "    <tr>\n",
       "      <th>97</th>\n",
       "      <td>IMG_OCR_53_4PR_04458</td>\n",
       "      <td>[광주광역시, 제주시, 내리동, NAK, 고약홀, 변은화]</td>\n",
       "    </tr>\n",
       "    <tr>\n",
       "      <th>98</th>\n",
       "      <td>IMG_OCR_53_4PR_04459</td>\n",
       "      <td>[흥덕구, 삼성면, 생연동, ERP, 옥창자, 강주위]</td>\n",
       "    </tr>\n",
       "    <tr>\n",
       "      <th>99</th>\n",
       "      <td>IMG_OCR_53_4PR_04460</td>\n",
       "      <td>[004460, 고기동, 장지동, 아지동, 대민만, SVC, PMS, 명미유]</td>\n",
       "    </tr>\n",
       "  </tbody>\n",
       "</table>\n",
       "<p>100 rows × 2 columns</p>\n",
       "</div>"
      ],
      "text/plain": [
       "                      id                                               text\n",
       "0   IMG_OCR_53_4PR_04358                                 [갑동, 핑프, 천차스, 안방사]\n",
       "1   IMG_OCR_53_4PR_04359                                    [원흥동, PIP, EMS]\n",
       "2   IMG_OCR_53_4PR_04360                                     [창천동, 비당, 모사입]\n",
       "3   IMG_OCR_53_4PR_04361                                         [스세권, MAC]\n",
       "4   IMG_OCR_53_4PR_04362                                         [고양시, LTE]\n",
       "..                   ...                                                ...\n",
       "95  IMG_OCR_53_4PR_04456  [004456, 양양군, 우성면, 목성동, 먹방, MMORPG, 양사주, 백왈취, ...\n",
       "96  IMG_OCR_53_4PR_04457                               [웅남동, HDD, 심주험, 명초항]\n",
       "97  IMG_OCR_53_4PR_04458                   [광주광역시, 제주시, 내리동, NAK, 고약홀, 변은화]\n",
       "98  IMG_OCR_53_4PR_04459                     [흥덕구, 삼성면, 생연동, ERP, 옥창자, 강주위]\n",
       "99  IMG_OCR_53_4PR_04460        [004460, 고기동, 장지동, 아지동, 대민만, SVC, PMS, 명미유]\n",
       "\n",
       "[100 rows x 2 columns]"
      ]
     },
     "execution_count": 4,
     "metadata": {},
     "output_type": "execute_result"
    }
   ],
   "source": [
    "data = df.copy()\n",
    "data = data.loc[:, ['id', 'text']]\n",
    "data"
   ]
  },
  {
   "cell_type": "code",
   "execution_count": 5,
   "id": "6c896be8",
   "metadata": {
    "ExecuteTime": {
     "end_time": "2024-08-29T18:37:28.455371Z",
     "start_time": "2024-08-29T18:37:28.438782Z"
    }
   },
   "outputs": [],
   "source": [
    "def font2image(df):\n",
    "    \n",
    "    def df2var(row):\n",
    "    \n",
    "        name = str(row['id'][12:])\n",
    "        texts = row['text']\n",
    "            \n",
    "        return name, texts\n",
    "        \n",
    "    def txt2image(path, fontName, name, draw_text):\n",
    "        \n",
    "        font = ImageFont.truetype(path, 25)\n",
    "        \n",
    "        # 이미지 사이즈 지정\n",
    "        text_width = 30 * 3\n",
    "        text_height = 40\n",
    "\n",
    "        # 이미지 객체 생성 (배경 검정)\n",
    "        canvas = Image.new('RGB', (text_width, text_height), \"white\")\n",
    "\n",
    "        # 가운데에 그리기 (폰트 색: 하양)\n",
    "        draw = ImageDraw.Draw(canvas)\n",
    "        \n",
    "        # 텍스트 크기 계산\n",
    "        # 참고 코드는 getsize 였으나 함수의 이름과 활용이 바뀜\n",
    "        bbox = font.getbbox(text)\n",
    "        \n",
    "        w = bbox[2] - bbox[0]\n",
    "        h = bbox[3] - bbox[1]\n",
    "        \n",
    "        # 텍스트 그리기\n",
    "        draw.text(((text_width - w) / 2.0,\n",
    "                  (text_height - h) / 2.0),\n",
    "                  draw_text, 'black', font)\n",
    "\n",
    "        # png로 저장 및 출력해서 보기\n",
    "        file_name = 'result/' + name + '_' + draw_text + '_' + fontName[:-4]+'.png'\n",
    "        canvas.save(file_name, \"PNG\")\n",
    "        \n",
    "        # 결과물 바로 출력하기\n",
    "#         canvas.show()\n",
    "\n",
    "    print('적용 폰트 갯수: {}'.format(len(fonts_path_list)))\n",
    "        \n",
    "    for idx, row in df.iterrows():\n",
    "        name, texts = df2var(row)\n",
    "        for path in fonts_path_list:\n",
    "            font = path[10:-4]\n",
    "\n",
    "            for text in texts:\n",
    "                txt2image(path, font, name, text)\n",
    "                \n",
    "        print('적용 파일 이름: {}, 변환 단어: {}'.format(name, texts))"
   ]
  },
  {
   "cell_type": "code",
   "execution_count": 6,
   "id": "2de017cd",
   "metadata": {
    "ExecuteTime": {
     "end_time": "2024-08-29T18:37:28.636943Z",
     "start_time": "2024-08-29T18:37:28.455371Z"
    }
   },
   "outputs": [
    {
     "name": "stdout",
     "output_type": "stream",
     "text": [
      "적용 폰트 갯수: 7\n",
      "적용 파일 이름: PR_04358, 변환 단어: ['갑동', '핑프', '천차스', '안방사']\n",
      "적용 파일 이름: PR_04359, 변환 단어: ['원흥동', 'PIP', 'EMS']\n"
     ]
    }
   ],
   "source": [
    "# 모든 폰트에 적용됨\n",
    "# 입력값은 \n",
    "\n",
    "font2image(data[:2])"
   ]
  }
 ],
 "metadata": {
  "kernelspec": {
   "display_name": "ds_study",
   "language": "python",
   "name": "ds_study"
  },
  "language_info": {
   "codemirror_mode": {
    "name": "ipython",
    "version": 3
   },
   "file_extension": ".py",
   "mimetype": "text/x-python",
   "name": "python",
   "nbconvert_exporter": "python",
   "pygments_lexer": "ipython3",
   "version": "3.8.19"
  },
  "toc": {
   "base_numbering": 1,
   "nav_menu": {},
   "number_sections": true,
   "sideBar": true,
   "skip_h1_title": false,
   "title_cell": "Table of Contents",
   "title_sidebar": "Contents",
   "toc_cell": false,
   "toc_position": {},
   "toc_section_display": true,
   "toc_window_display": false
  }
 },
 "nbformat": 4,
 "nbformat_minor": 5
}
